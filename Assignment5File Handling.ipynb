{
 "cells": [
  {
   "cell_type": "markdown",
   "id": "445f273a",
   "metadata": {},
   "source": [
    "Q: What is the difference between interpreted and compiled languages? \n",
    "\n",
    "Ans: Compiled languages are translated directly into machine code that the processor can execute. This translation process, done by a compiler, happens before the program is run. As a result, compiled programs tend to be faster. Examples include C, C++, and Java.\n",
    "\n",
    "Interpreted languages, like Python, are not directly compiled into machine code. Instead, an interpreter reads and executes the code line by line at runtime. This makes them more platform-independent and easier to debug, but often slower than compiled languages."
   ]
  },
  {
   "cell_type": "markdown",
   "id": "96610738",
   "metadata": {},
   "source": [
    "Q: What is exception handling in Python? \n",
    "\n",
    "Ans: Exception handling is a mechanism that allows us to respond to errors or other exceptional events that occur during the execution of a program. Instead of letting the program crash, we can use constructs like try...except blocks to catch these exceptions and execute specific code to handle them gracefully."
   ]
  },
  {
   "cell_type": "markdown",
   "id": "43079a0a",
   "metadata": {},
   "source": [
    "Q: What is the purpose of the finally block in exception handling?\n",
    "\n",
    "Ans: The finally block is used to define code that will be executed no matter what—whether an exception was raised or not. Its primary purpose is for cleanup actions, such as closing files or releasing external resources, ensuring these essential operations always run."
   ]
  },
  {
   "cell_type": "markdown",
   "id": "be67e189",
   "metadata": {},
   "source": [
    "Q: What is logging in Python? \n",
    "\n",
    "Ans: Logging is a way to record events that happen while a program is running. It's a crucial tool for debugging, monitoring application behavior, and auditing activity. Instead of printing messages to the console, logging allows us to send messages to various destinations like files or network streams, with different severity levels (e.g., DEBUG, INFO, ERROR)."
   ]
  },
  {
   "cell_type": "markdown",
   "id": "4d39f4d5",
   "metadata": {},
   "source": [
    "Q: What is the significance of the __ del__ method in Python? \n",
    "\n",
    "Ans: The __ del__ method, known as a destructor, is called when an object's reference count drops to zero, just before the object is destroyed by the garbage collector. While it can be used for cleanup tasks, its use is generally discouraged because the exact timing of its execution is unpredictable. The with statement and finally blocks are preferred for resource management."
   ]
  },
  {
   "cell_type": "markdown",
   "id": "bafe2986",
   "metadata": {},
   "source": [
    "Q:  What is the difference between import and from... import in Python? \n",
    "\n",
    "Ans:    import module_name: This imports the entire module. To access its functions or attributes, we must prefix them with the module name (e.g., math.sqrt(4)).\n",
    "\n",
    "from module_name import function_name: This imports a specific function or attribute directly into the current namespace. We can then call it directly without the module prefix (e.g., sqrt(4))."
   ]
  },
  {
   "cell_type": "markdown",
   "id": "a1a78f12",
   "metadata": {},
   "source": [
    "Q: How can multiple exceptions be handled in Python? \n",
    "\n",
    "Ans: 1. Tuple in one except block: A single except block can handle a tuple of exceptions. This is useful when the handling logic is the same for all of them.\n",
    "\n",
    "2. Multiple except blocks: Use separate except blocks for each specific exception if they require different handling logic."
   ]
  },
  {
   "cell_type": "markdown",
   "id": "c8b124ec",
   "metadata": {},
   "source": [
    "Q: What is the purpose of the with statement when handling files in Python? \n",
    "\n",
    "Ans: The with statement simplifies exception handling by encapsulating common try...finally cleanup tasks. When used with files, it automatically ensures that the file is closed when the block is exited, even if errors occur. This makes the code cleaner and less error-prone."
   ]
  },
  {
   "cell_type": "markdown",
   "id": "3c9372ad",
   "metadata": {},
   "source": [
    "Q: What is the difference between multithreading and multiprocessing? \n",
    "\n",
    "Ans: Multithreading: Involves running multiple threads (lighter-weight processes) within the same process. Threads share the same memory space. This is useful for I/O-bound tasks (like waiting for network requests) where threads can work on other tasks while one is waiting.\n",
    "\n",
    "Multiprocessing: Involves running multiple processes, each with its own memory space and its own Python interpreter. This is ideal for CPU-bound tasks (like heavy calculations) as it can take advantage of multiple CPU cores to run tasks in parallel."
   ]
  },
  {
   "cell_type": "markdown",
   "id": "0569d28e",
   "metadata": {},
   "source": [
    "Q: What are the advantages of using logging in a program? \n",
    "\n",
    "Ans: Using logging provides several advantages:\n",
    "\n",
    "Diagnostics: It helps diagnose problems by providing a record of what the application was doing.\n",
    "\n",
    "Flexibility: It allows for different levels of detail (e.g., DEBUG, INFO, WARNING, ERROR) that can be configured without changing the code.\n",
    "\n",
    "Persistence: Logs can be saved to files for later analysis, unlike simple print statements that are lost when the console closes.\n",
    "\n",
    "Context: Log records can automatically include contextual information like timestamps, line numbers, and module names."
   ]
  },
  {
   "cell_type": "markdown",
   "id": "3e423e11",
   "metadata": {},
   "source": [
    "Q: What is memory management in Python? \n",
    "\n",
    "Ans: Memory management in Python is the process of allocating memory for objects and deallocating it when they are no longer needed. Python handles this automatically using a private heap space. The primary mechanisms involved are reference counting and a cyclic garbage collector."
   ]
  },
  {
   "cell_type": "markdown",
   "id": "e2807965",
   "metadata": {},
   "source": [
    "Q: What are the basic steps involved in exception handling in Python? \n",
    "\n",
    "The basic steps are:\n",
    "\n",
    "    try: Place the code that might raise an exception inside the try block.\n",
    "\n",
    "    except: If an exception occurs in the try block, the code inside the corresponding except block is executed. This is where the error is handled.\n",
    "\n",
    "    else (Optional): If no exception occurs in the try block, the code in the else block is executed.\n",
    "\n",
    "    finally (Optional): This block's code is executed regardless of whether an exception occurred or not, and is used for cleanup."
   ]
  },
  {
   "cell_type": "markdown",
   "id": "6288373b",
   "metadata": {},
   "source": [
    "Q: Why is memory management important in Python? \n",
    "\n",
    "Ans: Poor memory management can lead to:\n",
    "\n",
    "Memory Leaks: Objects are not deallocated even when they are no longer needed, causing the application to consume more and more memory over time.\n",
    "\n",
    "Performance Issues: Unnecessary object creation and destruction can slow down the program.\n",
    "\n",
    "Resource Constraints: In memory-constrained environments, efficient management is critical to prevent the application from crashing.\n",
    "\n",
    "Hence memory management is important in Python"
   ]
  },
  {
   "cell_type": "markdown",
   "id": "2a60e948",
   "metadata": {},
   "source": [
    "Q: What is the role of try and except in exception handling? \n",
    "\n",
    " Ans: The try block is used to enclose a section of code that we suspect might raise an exception.\n",
    "\n",
    "The except block is where we define the response to an exception. If an exception of the specified type occurs in the try block, the interpreter jumps to the except block and executes the code within it."
   ]
  },
  {
   "cell_type": "markdown",
   "id": "381bc80f",
   "metadata": {},
   "source": [
    "Q: How does Python's garbage collection system work? \n",
    "\n",
    "Ans: Python's primary garbage collection mechanism is reference counting. Every object has a count of how many variables refer to it. When this count drops to zero, the object's memory is immediately deallocated.\n",
    "\n",
    "However, reference counting cannot handle reference cycles (e.g., object A refers to B, and B refers to A). To solve this, Python has a supplemental cyclic garbage collector that periodically runs to detect and clean up these cycles."
   ]
  },
  {
   "cell_type": "markdown",
   "id": "108c1a96",
   "metadata": {},
   "source": [
    "Q: What is the purpose of the else block in exception handling? \n",
    "\n",
    "The else block is executed only if the try block completes successfully without raising any exceptions. It's useful for code that should run only when the main action in the try block succeeds. This helps separate the \"success\" code from the main \"action\" code, improving readability."
   ]
  },
  {
   "cell_type": "markdown",
   "id": "256c34e9",
   "metadata": {},
   "source": [
    "Q: What are the common logging levels in Python? \n",
    "\n",
    "The standard logging levels, in order of increasing severity, are:\n",
    "\n",
    "DEBUG: Detailed information, typically of interest only when diagnosing problems.\n",
    "\n",
    "INFO: Confirmation that things are working as expected.\n",
    "\n",
    "WARNING: An indication that something unexpected happened, or a potential problem in the near future (e.g., 'disk space low'). The software is still working as expected.\n",
    "\n",
    "ERROR: Due to a more serious problem, the software has not been able to perform some function.\n",
    "\n",
    "CRITICAL: A serious error, indicating that the program itself may be unable to continue running."
   ]
  },
  {
   "cell_type": "markdown",
   "id": "fa6a7178",
   "metadata": {},
   "source": [
    "Q: What is the difference between os.fork() and multiprocessing in Python? \n",
    "\n",
    "Ans:  os.fork(): This is a low-level system call available on Unix-like systems. It creates an exact copy of the current process, creating a child process that shares the parent's memory space initially (using copy-on-write). It's less portable and harder to manage than the multiprocessing module.\n",
    "\n",
    "multiprocessing module: This is a high-level, cross-platform library for creating and managing processes. It provides a simpler API for spawning processes, managing communication between them (e.g., with Queues and Pipes), and synchronizing their work. It is the recommended way to do multiprocessing in Python."
   ]
  },
  {
   "cell_type": "markdown",
   "id": "3a70c1de",
   "metadata": {},
   "source": [
    "Q: What is the importance of closing a file in Python? \n",
    "\n",
    "Closing a file is important for several reasons:\n",
    "\n",
    "Resource Release: Open files consume system resources. Closing them releases these resources for other applications or parts of the program.\n",
    "\n",
    "Data Integrity: When writing to a file, data is often held in a buffer. Closing the file ensures that all buffered data is written to the disk, preventing data loss.\n",
    "\n",
    "File Locks: Operating systems may lock an open file, preventing other programs from accessing it. Closing the file releases the lock."
   ]
  },
  {
   "cell_type": "markdown",
   "id": "a87f5db2",
   "metadata": {},
   "source": [
    "Q: What is the difference between file.read() and file.readline() in Python? \n",
    "\n",
    "file.read(size): Reads and returns the entire content of the file as a single string. If an optional size argument is provided, it reads that many bytes.\n",
    "\n",
    "file.readline(): Reads and returns a single line from the file, including the newline character (\\n) at the end. It's useful for reading a file one line at a time."
   ]
  },
  {
   "cell_type": "markdown",
   "id": "b220dc27",
   "metadata": {},
   "source": [
    "Q: What is the logging module in Python used for? \n",
    "\n",
    "The logging module is a standard library used to implement a flexible and configurable system for recording events, errors, and other informational messages during a program's execution. It allows developers to track application behavior, debug issues, and create audit trails."
   ]
  },
  {
   "cell_type": "markdown",
   "id": "1593aa8d",
   "metadata": {},
   "source": [
    "Q: What is the os module in Python used for in file handling? \n",
    "\n",
    "The os module provides a way of using operating system-dependent functionality. In file handling, it is used for tasks that interact with the file system itself, rather than the content of files. Common uses include:\n",
    "\n",
    "Checking if a file or directory exists (os.path.exists()).\n",
    "\n",
    "Renaming or deleting files (os.rename(), os.remove()).\n",
    "\n",
    "Creating and managing directories (os.mkdir(), os.chdir()).\n",
    "\n",
    "Getting file metadata like size or modification time (os.path.getsize())."
   ]
  },
  {
   "cell_type": "markdown",
   "id": "5d5f2c92",
   "metadata": {},
   "source": [
    "Q: What are the challenges associated with memory management in Python? \n",
    "\n",
    "Ans: Despite being automatic, some challenges with memory management in python are:\n",
    "\n",
    "Memory Leaks from Reference Cycles: The cyclic garbage collector can handle most cycles, but complex object graphs or objects with custom __ del__ methods can still create uncollectable cycles.\n",
    "\n",
    "Large Object Allocation: Handling very large datasets can lead to high memory consumption and performance degradation if not managed carefully.\n",
    "\n",
    "Memory Fragmentation: Over time, repeated allocation and deallocation of memory blocks of different sizes can lead to fragmentation, where there is enough free memory in total, but not enough contiguous memory for a large allocation."
   ]
  },
  {
   "cell_type": "markdown",
   "id": "efab786e",
   "metadata": {},
   "source": [
    "Q: How is an exception raised manually in Python? \n",
    "\n",
    "Ans: An exception can be raised manually using the raise keyword, followed by an instance of an exception class."
   ]
  },
  {
   "cell_type": "markdown",
   "id": "b5cd12cd",
   "metadata": {},
   "source": [
    "Q: Why is it important to use multithreading in certain applications? \n",
    "\n",
    "Ans: Multithreading is important in applications that are I/O-bound. This includes applications that spend a lot of time waiting for operations like network requests, database queries, or reading from a disk to complete. By using multiple threads, the application can perform other tasks while one thread is waiting, leading to improved responsiveness and overall performance. A good example is a web server handling multiple client requests simultaneously."
   ]
  },
  {
   "cell_type": "markdown",
   "id": "c8cf9cbc",
   "metadata": {},
   "source": [
    "Q:How can you open a file for writing in Python and write a string to it?"
   ]
  },
  {
   "cell_type": "code",
   "execution_count": 1,
   "id": "6a91ccb5",
   "metadata": {},
   "outputs": [
    {
     "name": "stdout",
     "output_type": "stream",
     "text": [
      "Data written to my_file.txt\n"
     ]
    }
   ],
   "source": [
    "with open('my_file.txt', 'w') as f:\n",
    "    f.write(\"This is a new line written to the file.\\n\")\n",
    "    f.write(\"This is another line.\\n\")\n",
    "\n",
    "print(\"Data written to my_file.txt\")"
   ]
  },
  {
   "cell_type": "markdown",
   "id": "ed386647",
   "metadata": {},
   "source": [
    "Q: Write a Python program to read the contents of a file and print each line"
   ]
  },
  {
   "cell_type": "code",
   "execution_count": 2,
   "id": "0e21aa75",
   "metadata": {},
   "outputs": [
    {
     "name": "stdout",
     "output_type": "stream",
     "text": [
      "This is a new line written to the file.\n",
      "This is another line.\n"
     ]
    }
   ],
   "source": [
    "try:\n",
    "    with open('my_file.txt', 'r') as f:\n",
    "        for line in f:\n",
    "            print(line.strip())\n",
    "except FileNotFoundError:\n",
    "    print(\"Error: The file was not found.\")"
   ]
  },
  {
   "cell_type": "markdown",
   "id": "41216a33",
   "metadata": {},
   "source": [
    "Q:  How would you handle a case where the file doesn't exist while trying to open it for reading? "
   ]
  },
  {
   "cell_type": "code",
   "execution_count": 3,
   "id": "0755d92c",
   "metadata": {},
   "outputs": [
    {
     "name": "stdout",
     "output_type": "stream",
     "text": [
      "Error: The file at 'non_existent_file.txt' does not exist.\n"
     ]
    }
   ],
   "source": [
    "file_path = 'non_existent_file.txt'\n",
    "\n",
    "try:\n",
    "    with open(file_path, 'r') as f:\n",
    "        content = f.read()\n",
    "        print(\"File content:\", content)\n",
    "except FileNotFoundError:\n",
    "    print(f\"Error: The file at '{file_path}' does not exist.\")"
   ]
  },
  {
   "cell_type": "markdown",
   "id": "c35fc4f4",
   "metadata": {},
   "source": [
    "Q: Write a Python script that reads from one file and writes its content to another file. "
   ]
  },
  {
   "cell_type": "code",
   "execution_count": 4,
   "id": "6d8f8924",
   "metadata": {},
   "outputs": [
    {
     "name": "stdout",
     "output_type": "stream",
     "text": [
      "Successfully copied content from 'my_file.txt' to 'copied_file.txt'.\n"
     ]
    }
   ],
   "source": [
    "source_file = 'my_file.txt'\n",
    "destination_file = 'copied_file.txt'\n",
    "\n",
    "try:\n",
    "    with open(source_file, 'r') as src, open(destination_file, 'w') as dest:\n",
    "        content = src.read()\n",
    "        dest.write(content)\n",
    "    print(f\"Successfully copied content from '{source_file}' to '{destination_file}'.\")\n",
    "except FileNotFoundError:\n",
    "    print(f\"Error: The source file '{source_file}' was not found.\")"
   ]
  },
  {
   "cell_type": "markdown",
   "id": "181e5b17",
   "metadata": {},
   "source": [
    "Q: How would you catch and handle division by zero error in Python?"
   ]
  },
  {
   "cell_type": "code",
   "execution_count": 5,
   "id": "918ac2a3",
   "metadata": {},
   "outputs": [
    {
     "name": "stdout",
     "output_type": "stream",
     "text": [
      "Error: Cannot divide by zero.\n"
     ]
    }
   ],
   "source": [
    "numerator = 10\n",
    "denominator = 0\n",
    "\n",
    "try:\n",
    "    result = numerator / denominator\n",
    "    print(f\"The result is: {result}\")\n",
    "except ZeroDivisionError:\n",
    "    print(\"Error: Cannot divide by zero.\")"
   ]
  },
  {
   "cell_type": "markdown",
   "id": "06fc85db",
   "metadata": {},
   "source": [
    "Q: Write a Python program that logs an error message to a log file when a division by zero exception occurs."
   ]
  },
  {
   "cell_type": "code",
   "execution_count": 6,
   "id": "5bce0a49",
   "metadata": {},
   "outputs": [
    {
     "name": "stdout",
     "output_type": "stream",
     "text": [
      "An error occurred. Check the 'app_errors.log' file for details.\n"
     ]
    }
   ],
   "source": [
    "import logging\n",
    "\n",
    "logging.basicConfig(filename='app_errors.log',\n",
    "                    level=logging.ERROR,\n",
    "                    format='%(asctime)s - %(levelname)s - %(message)s')\n",
    "\n",
    "try:\n",
    "    result = 10 / 0\n",
    "except ZeroDivisionError:\n",
    "    # Log the error to the file\n",
    "    logging.error(\"A ZeroDivisionError occurred.\", exc_info=True)\n",
    "    print(\"An error occurred. Check the 'app_errors.log' file for details.\")"
   ]
  },
  {
   "cell_type": "markdown",
   "id": "1068e986",
   "metadata": {},
   "source": [
    "Q: How do you log information at different levels (INFO, ERROR, WARNING) in Python using the logging module?"
   ]
  },
  {
   "cell_type": "code",
   "execution_count": 7,
   "id": "110e4efa",
   "metadata": {},
   "outputs": [],
   "source": [
    "import logging\n",
    "logging.basicConfig(level=logging.INFO,\n",
    "                    format='%(asctime)s - %(levelname)s - %(message)s')\n",
    "\n",
    "logging.info(\"This is an informational message.\")\n",
    "logging.warning(\"This is a warning message.\")\n",
    "logging.error(\"This is an error message.\")"
   ]
  },
  {
   "cell_type": "markdown",
   "id": "db43e3c6",
   "metadata": {},
   "source": [
    "Q: Write a program to handle a file opening error using exception handling. "
   ]
  },
  {
   "cell_type": "code",
   "execution_count": 8,
   "id": "f45d505b",
   "metadata": {},
   "outputs": [
    {
     "name": "stdout",
     "output_type": "stream",
     "text": [
      "Error: Could not find the file named 'a_file_that_does_not_exist.txt'.\n"
     ]
    }
   ],
   "source": [
    "file_to_open = 'a_file_that_does_not_exist.txt'\n",
    "\n",
    "try:\n",
    "    with open(file_to_open, 'r') as f:\n",
    "        print(\"File opened successfully.\")\n",
    "except FileNotFoundError:\n",
    "    print(f\"Error: Could not find the file named '{file_to_open}'.\")\n",
    "except Exception as e:\n",
    "    print(f\"An unexpected error occurred: {e}\")"
   ]
  },
  {
   "cell_type": "markdown",
   "id": "78bf921d",
   "metadata": {},
   "source": [
    "Q: How can you read a file line by line and store its content in a list in Python? "
   ]
  },
  {
   "cell_type": "code",
   "execution_count": 9,
   "id": "e13cd191",
   "metadata": {},
   "outputs": [
    {
     "name": "stdout",
     "output_type": "stream",
     "text": [
      "['This is a new line written to the file.', 'This is another line.']\n"
     ]
    }
   ],
   "source": [
    "file_name = 'my_file.txt'\n",
    "lines_list = []\n",
    "\n",
    "try:\n",
    "    with open(file_name, 'r') as f:\n",
    "        lines_list = [line.strip() for line in f]\n",
    "    print(lines_list)\n",
    "except FileNotFoundError:\n",
    "    print(f\"Error: File '{file_name}' not found.\")"
   ]
  },
  {
   "cell_type": "markdown",
   "id": "09a316ae",
   "metadata": {},
   "source": [
    "Q: How can you append data to an existing file in Python?"
   ]
  },
  {
   "cell_type": "code",
   "execution_count": 10,
   "id": "dc0b1765",
   "metadata": {},
   "outputs": [
    {
     "name": "stdout",
     "output_type": "stream",
     "text": [
      "Data appended successfully.\n"
     ]
    }
   ],
   "source": [
    "with open('my_file.txt', 'a') as f:\n",
    "    f.write(\"This is a new line appended to the file.\\n\")\n",
    "\n",
    "print(\"Data appended successfully.\")"
   ]
  },
  {
   "cell_type": "markdown",
   "id": "897f57b8",
   "metadata": {},
   "source": [
    "Q: Write a Python program that uses a try-except block to handle an error when attempting to access a dictionary key that doesn't exist."
   ]
  },
  {
   "cell_type": "code",
   "execution_count": 11,
   "id": "447aa678",
   "metadata": {},
   "outputs": [
    {
     "name": "stdout",
     "output_type": "stream",
     "text": [
      "Error: The key 'city' does not exist in the dictionary.\n"
     ]
    }
   ],
   "source": [
    "my_dict = {'name': 'Alice', 'age': 30}\n",
    "\n",
    "try:\n",
    "    print(f\"City: {my_dict['city']}\")\n",
    "except KeyError:\n",
    "    print(\"Error: The key 'city' does not exist in the dictionary.\")"
   ]
  },
  {
   "cell_type": "markdown",
   "id": "6771f101",
   "metadata": {},
   "source": [
    "Q: Write a program that demonstrates using multiple except blocks to handle different types of exceptions."
   ]
  },
  {
   "cell_type": "code",
   "execution_count": 12,
   "id": "393231bc",
   "metadata": {},
   "outputs": [
    {
     "name": "stdout",
     "output_type": "stream",
     "text": [
      "Error: The index is out of bounds for the list.\n",
      "Error: The key does not exist in the dictionary.\n"
     ]
    }
   ],
   "source": [
    "def process_data(data, index, key):\n",
    "    try:\n",
    "        value = data[index]\n",
    "        result = value[key]\n",
    "        print(f\"The result is: {result}\")\n",
    "    except IndexError:\n",
    "        print(\"Error: The index is out of bounds for the list.\")\n",
    "    except KeyError:\n",
    "        print(\"Error: The key does not exist in the dictionary.\")\n",
    "    except Exception as e:\n",
    "        print(f\"An unexpected error occurred: {e}\")\n",
    "\n",
    "my_data = [{'name': 'Bob'}, {'name': 'Charlie'}]\n",
    "\n",
    "process_data(my_data, 5, 'name')\n",
    "\n",
    "process_data(my_data, 0, 'age')"
   ]
  },
  {
   "cell_type": "markdown",
   "id": "6555aa92",
   "metadata": {},
   "source": [
    "Q: How would you check if a file exists before attempting to read it in Python? "
   ]
  },
  {
   "cell_type": "code",
   "execution_count": 13,
   "id": "cc58ba73",
   "metadata": {},
   "outputs": [
    {
     "name": "stdout",
     "output_type": "stream",
     "text": [
      "File 'my_file.txt' exists. Reading content...\n",
      "This is a new line written to the file.\n",
      "This is another line.\n",
      "This is a new line appended to the file.\n",
      "\n"
     ]
    }
   ],
   "source": [
    "import os\n",
    "\n",
    "file_path = 'my_file.txt'\n",
    "\n",
    "if os.path.exists(file_path):\n",
    "    print(f\"File '{file_path}' exists. Reading content...\")\n",
    "    with open(file_path, 'r') as f:\n",
    "        print(f.read())\n",
    "else:\n",
    "    print(f\"File '{file_path}' does not exist.\")"
   ]
  },
  {
   "cell_type": "markdown",
   "id": "22128232",
   "metadata": {},
   "source": [
    "Q: Write a program that uses the logging module to log both informational and error messages. "
   ]
  },
  {
   "cell_type": "code",
   "execution_count": 14,
   "id": "74ce08c1",
   "metadata": {},
   "outputs": [
    {
     "name": "stdout",
     "output_type": "stream",
     "text": [
      "Operations attempted. Check 'program_log.log' for details.\n"
     ]
    }
   ],
   "source": [
    "import logging\n",
    "\n",
    "logging.basicConfig(filename='program_log.log',\n",
    "                    level=logging.INFO,\n",
    "                    format='%(asctime)s - %(levelname)s - %(message)s')\n",
    "\n",
    "def divide_numbers(a, b):\n",
    "    logging.info(f\"Attempting to divide {a} by {b}\")\n",
    "    try:\n",
    "        result = a / b\n",
    "        logging.info(f\"Division successful. Result: {result}\")\n",
    "        return result\n",
    "    except ZeroDivisionError:\n",
    "        logging.error(f\"Division by zero attempted with a={a}, b={b}\", exc_info=True)\n",
    "        return None\n",
    "\n",
    "divide_numbers(10, 2)\n",
    "divide_numbers(5, 0)\n",
    "\n",
    "print(\"Operations attempted. Check 'program_log.log' for details.\")"
   ]
  },
  {
   "cell_type": "markdown",
   "id": "2aa22a60",
   "metadata": {},
   "source": [
    "Q: Write a Python program that prints the content of a file and handles the case when the file is empty. "
   ]
  },
  {
   "cell_type": "code",
   "execution_count": 15,
   "id": "846abb73",
   "metadata": {},
   "outputs": [
    {
     "name": "stdout",
     "output_type": "stream",
     "text": [
      "The file 'empty_file.txt' is empty.\n"
     ]
    }
   ],
   "source": [
    "import os\n",
    "\n",
    "file_name = 'empty_file.txt'\n",
    "open(file_name, 'w').close()\n",
    "\n",
    "try:\n",
    "    with open(file_name, 'r') as f:\n",
    "        content = f.read()\n",
    "        if not content:\n",
    "            print(f\"The file '{file_name}' is empty.\")\n",
    "        else:\n",
    "            print(\"File Content:\")\n",
    "            print(content)\n",
    "finally:\n",
    "    if os.path.exists(file_name):\n",
    "        os.remove(file_name)"
   ]
  },
  {
   "cell_type": "markdown",
   "id": "1c2eb381",
   "metadata": {},
   "source": [
    "Q: Demonstrate how to use memory profiling to check the memory usage of a small program. "
   ]
  },
  {
   "cell_type": "code",
   "execution_count": null,
   "id": "145255a7",
   "metadata": {},
   "outputs": [],
   "source": [
    "# Note: To run this, you need to install memory_profiler\n",
    "# and run it from the command line: python -m memory_profiler your_script_name.py\n",
    "\n",
    "from memory_profiler import profile\n",
    "\n",
    "@profile\n",
    "def create_large_list():\n",
    "    \"\"\"Function to demonstrate memory usage.\"\"\"\n",
    "    my_list = [i for i in range(1000000)] # Create a list with 1 million integers\n",
    "    my_string = 'x' * (10**7) # Create a 10MB string\n",
    "    del my_list\n",
    "    return my_string\n",
    "\n",
    "if __name__ == '__main__':\n",
    "    final_string = create_large_list()\n",
    "    print(\"Function executed. Check command line output for memory profile.\")"
   ]
  },
  {
   "cell_type": "markdown",
   "id": "d7f42b05",
   "metadata": {},
   "source": [
    "Q: Write a Python program to create and write a list of numbers to a file, one number per line. "
   ]
  },
  {
   "cell_type": "code",
   "execution_count": 17,
   "id": "1ee6b96f",
   "metadata": {},
   "outputs": [
    {
     "name": "stdout",
     "output_type": "stream",
     "text": [
      "Numbers have been written to 'numbers.txt'.\n"
     ]
    }
   ],
   "source": [
    "numbers = [10, 20, 30, 40, 50]\n",
    "\n",
    "with open('numbers.txt', 'w') as f:\n",
    "    for num in numbers:\n",
    "        f.write(f\"{num}\\n\")\n",
    "\n",
    "print(\"Numbers have been written to 'numbers.txt'.\")"
   ]
  },
  {
   "cell_type": "markdown",
   "id": "08cac2d3",
   "metadata": {},
   "source": [
    "Q: How would you implement a basic logging setup that logs to a file with rotation after 1MB? "
   ]
  },
  {
   "cell_type": "code",
   "execution_count": 18,
   "id": "432e507c",
   "metadata": {},
   "outputs": [],
   "source": [
    "import logging\n",
    "from logging.handlers import RotatingFileHandler\n",
    "\n",
    "logger = logging.getLogger('my_app_logger')\n",
    "logger.setLevel(logging.INFO)\n",
    "\n",
    "handler = RotatingFileHandler('rotating_log.log', maxBytes=1000000, backupCount=3)\n",
    "\n",
    "formatter = logging.Formatter('%(asctime)s - %(name)s - %(levelname)s - %(message)s')\n",
    "handler.setFormatter(formatter)\n",
    "logger.addHandler(handler)\n",
    "\n",
    "logger.info(\"This is the first log message.\")\n",
    "logger.warning(\"This is a warning.\")\n",
    "logger.info(\"Rotation will happen once the file size exceeds 1MB.\")"
   ]
  },
  {
   "cell_type": "markdown",
   "id": "574e5b6e",
   "metadata": {},
   "source": [
    "Q: Write a program that handles both IndexError and KeyError using a try-except block. "
   ]
  },
  {
   "cell_type": "code",
   "execution_count": 19,
   "id": "6fced82b",
   "metadata": {},
   "outputs": [
    {
     "name": "stdout",
     "output_type": "stream",
     "text": [
      "A data access error occurred: IndexError - list index out of range\n",
      "Please check the index or key you are trying to access.\n"
     ]
    }
   ],
   "source": [
    "data = [{'name': 'Item A'}] # A list with one dictionary\n",
    "\n",
    "try:\n",
    "    item = data[1]\n",
    "    price = item['price']\n",
    "\n",
    "except (IndexError, KeyError) as e:\n",
    "    print(f\"A data access error occurred: {type(e).__name__} - {e}\")\n",
    "    print(\"Please check the index or key you are trying to access.\")"
   ]
  },
  {
   "cell_type": "markdown",
   "id": "b1784868",
   "metadata": {},
   "source": [
    "Q: How would you open a file and read its contents using a context manager in Python?"
   ]
  },
  {
   "cell_type": "code",
   "execution_count": 20,
   "id": "ce9e5906",
   "metadata": {},
   "outputs": [
    {
     "name": "stdout",
     "output_type": "stream",
     "text": [
      "This is a new line written to the file.\n",
      "This is another line.\n",
      "This is a new line appended to the file.\n",
      "\n",
      "File has been automatically closed.\n"
     ]
    }
   ],
   "source": [
    "file_path = 'my_file.txt'\n",
    "\n",
    "try:\n",
    "    with open(file_path, 'r') as file:\n",
    "        content = file.read()\n",
    "        print(content)\n",
    "    print(\"File has been automatically closed.\")\n",
    "except FileNotFoundError:\n",
    "    print(f\"Error: Could not find file at '{file_path}'\")"
   ]
  },
  {
   "cell_type": "markdown",
   "id": "41502b01",
   "metadata": {},
   "source": [
    "Q: Write a Python program that reads a file and prints the number of occurrences of a specific word. "
   ]
  },
  {
   "cell_type": "code",
   "execution_count": 21,
   "id": "fcc9e798",
   "metadata": {},
   "outputs": [
    {
     "name": "stdout",
     "output_type": "stream",
     "text": [
      "The word 'test' appears 2 times.\n"
     ]
    }
   ],
   "source": [
    "import re\n",
    "\n",
    "def count_word_occurrences(file_path, word):\n",
    "    \"\"\"Counts the occurrences of a specific word in a file (case-insensitive).\"\"\"\n",
    "    try:\n",
    "        with open(file_path, 'r') as f:\n",
    "            content = f.read()\n",
    "            occurrences = re.findall(r'\\b' + re.escape(word) + r'\\b', content, re.IGNORECASE)\n",
    "            return len(occurrences)\n",
    "    except FileNotFoundError:\n",
    "        return None\n",
    "\n",
    "with open('sample_text.txt', 'w') as f:\n",
    "    f.write(\"This is a test. The test is simple. What is this?\")\n",
    "\n",
    "word_to_find = \"test\"\n",
    "count = count_word_occurrences('sample_text.txt', word_to_find)\n",
    "\n",
    "if count is not None:\n",
    "    print(f\"The word '{word_to_find}' appears {count} times.\")\n",
    "else:\n",
    "    print(\"The file could not be found.\")"
   ]
  },
  {
   "cell_type": "markdown",
   "id": "6499b8fa",
   "metadata": {},
   "source": [
    "Q: How can you check if a file is empty before attempting to read its contents?"
   ]
  },
  {
   "cell_type": "code",
   "execution_count": 22,
   "id": "2214d62a",
   "metadata": {},
   "outputs": [
    {
     "name": "stdout",
     "output_type": "stream",
     "text": [
      "The file 'another_empty_file.txt' is empty.\n"
     ]
    }
   ],
   "source": [
    "import os\n",
    "\n",
    "file_path = 'another_empty_file.txt'\n",
    "with open(file_path, 'w') as f:\n",
    "    pass\n",
    "\n",
    "try:\n",
    "    if os.path.getsize(file_path) == 0:\n",
    "        print(f\"The file '{file_path}' is empty.\")\n",
    "    else:\n",
    "        print(f\"The file '{file_path}' is not empty. Reading contents...\")\n",
    "        with open(file_path, 'r') as f:\n",
    "            print(f.read())\n",
    "except FileNotFoundError:\n",
    "    print(f\"Error: The file '{file_path}' does not exist.\")\n",
    "finally:\n",
    "    if os.path.exists(file_path):\n",
    "        os.remove(file_path)"
   ]
  },
  {
   "cell_type": "markdown",
   "id": "064768e2",
   "metadata": {},
   "source": [
    "Q: Write a Python program that writes to a log file when an error occurs during file handling. "
   ]
  },
  {
   "cell_type": "code",
   "execution_count": 23,
   "id": "dd9a6f29",
   "metadata": {},
   "outputs": [
    {
     "name": "stdout",
     "output_type": "stream",
     "text": [
      "Error: File not found at path: non_existent.txt. Check log for details.\n",
      "Successfully opened and reading file...\n",
      "Error: Content of file 'invalid_content.txt' could not be converted to an integer.. Check log for details.\n"
     ]
    }
   ],
   "source": [
    "import logging\n",
    "\n",
    "logging.basicConfig(filename='file_handling_errors.log',\n",
    "                    level=logging.ERROR,\n",
    "                    format='%(asctime)s - %(levelname)s - %(message)s')\n",
    "\n",
    "def read_and_process_file(file_path):\n",
    "    try:\n",
    "        with open(file_path, 'r') as f:\n",
    "            print(\"Successfully opened and reading file...\")\n",
    "            content = f.read()\n",
    "            int(content) \n",
    "    except FileNotFoundError:\n",
    "        error_message = f\"File not found at path: {file_path}\"\n",
    "        logging.error(error_message)\n",
    "        print(f\"Error: {error_message}. Check log for details.\")\n",
    "    except ValueError:\n",
    "        error_message = f\"Content of file '{file_path}' could not be converted to an integer.\"\n",
    "        logging.error(error_message, exc_info=True)\n",
    "        print(f\"Error: {error_message}. Check log for details.\")\n",
    "    except Exception as e:\n",
    "        logging.error(f\"An unexpected error occurred: {e}\", exc_info=True)\n",
    "        print(f\"An unexpected error occurred. Check log for details.\")\n",
    "\n",
    "read_and_process_file('non_existent.txt')\n",
    "\n",
    "with open('invalid_content.txt', 'w') as f:\n",
    "    f.write(\"hello\")\n",
    "read_and_process_file('invalid_content.txt')"
   ]
  }
 ],
 "metadata": {
  "kernelspec": {
   "display_name": "aiml",
   "language": "python",
   "name": "python3"
  },
  "language_info": {
   "codemirror_mode": {
    "name": "ipython",
    "version": 3
   },
   "file_extension": ".py",
   "mimetype": "text/x-python",
   "name": "python",
   "nbconvert_exporter": "python",
   "pygments_lexer": "ipython3",
   "version": "3.13.7"
  }
 },
 "nbformat": 4,
 "nbformat_minor": 5
}
