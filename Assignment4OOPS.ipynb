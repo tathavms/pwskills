{
 "cells": [
  {
   "cell_type": "markdown",
   "id": "d7ddc260",
   "metadata": {},
   "source": [
    "Q:  What is Object-Oriented Programming (OOP)?  \n",
    "\n",
    "Ans: Object oriented Programming is a paradigm in which data is stored and acted on in the form of objects that are made from classes and the properties of those objects are stored in variables. There can be functions to modify the properties of the objects."
   ]
  },
  {
   "cell_type": "markdown",
   "id": "885652a0",
   "metadata": {},
   "source": [
    "Q: What is a class in OOP? \n",
    "\n",
    "Ans: A class is a blueprint or template for creating an object which might have certain properties. It defines a set of attributes and methods that the created objects (instances) will have. "
   ]
  },
  {
   "cell_type": "markdown",
   "id": "10c045aa",
   "metadata": {},
   "source": [
    "Q: What is an object in OOP?  \n",
    "\n",
    "Ans: Object is an instance of a class. It is created from thr class blueprint."
   ]
  },
  {
   "cell_type": "markdown",
   "id": "8b3e17fc",
   "metadata": {},
   "source": [
    "Q: What is the difference between abstraction and encapsulation?  \n",
    "\n",
    "Ans: Abstraction hides the implementation details and only shows the essential features of an object.  \n",
    "Encapsulation bundles the attributes and methods that operates on that data into a single unit. It restricts direct access to some of objects components."
   ]
  },
  {
   "cell_type": "markdown",
   "id": "1a7bb8e4",
   "metadata": {},
   "source": [
    "Q: What are dunder methods in Python?  \n",
    "\n",
    "Ans: Dunder methods (short for \"double underscore\" methods) are special methods in Python that allow us to emulate the behavior of built-in types and implement operator overloading."
   ]
  },
  {
   "cell_type": "markdown",
   "id": "eec3e746",
   "metadata": {},
   "source": [
    "Q:  Explain the concept of inheritance in OOP.  \n",
    "\n",
    "Ans: Inheritance is a process that allows a lower or child class to inherit attributes and methods from an existing class or parent class."
   ]
  },
  {
   "cell_type": "markdown",
   "id": "c5785d8e",
   "metadata": {},
   "source": [
    "Q: What is polymorphism in OOP?  \n",
    "\n",
    "Ans: Polymorphism is the ability of any data to be processed in more than one form.Polymorphism is the method in an object-oriented programming language that does different things depending on the class of the object which calls it."
   ]
  },
  {
   "cell_type": "markdown",
   "id": "2f108b39",
   "metadata": {},
   "source": [
    "Q: How is encapsulation achieved in Python?  \n",
    "\n",
    "Ans: Encapsulation in Python is done through a convention of prefixing attribute names with underscores.  \n",
    "Single underscore (_): It tells that an attribute is intended for internal use and should not be accessed directly from outside the class.\n",
    "\n",
    "Double underscore (__): Name mangling. Python changes the name of the attribute to make it harder to access from outside the class, in essence making it private."
   ]
  },
  {
   "cell_type": "markdown",
   "id": "8b0ee166",
   "metadata": {},
   "source": [
    "Q: What is a constructor in Python?   \n",
    "\n",
    "Ans: A constructor is a special method in a class that is automatically triggered when a new object of the class is created.  __ init__()"
   ]
  },
  {
   "cell_type": "markdown",
   "id": "a8aef815",
   "metadata": {},
   "source": [
    "Q: What are class and static methods in Python?  \n",
    "\n",
    "Ans: A class method is attached to the class and receives the class itself as its first argument. It is defined using the @classmethod decorator.  \n",
    "A static method is a method that belongs to the class but does not operate on the class or its instances.It does not receive self as its first argument."
   ]
  },
  {
   "cell_type": "markdown",
   "id": "b8847f95",
   "metadata": {},
   "source": [
    "Q: What is method overloading in Python?  \n",
    "\n",
    "Ans: Method overloading is the ability to define multiple methods with the same name but with different numbers or types of parameters. But in Python we can achieve similar functionality by using default arguments, variable-length arguments (*args, **kwargs), or by checking the type of arguments within a single method."
   ]
  },
  {
   "cell_type": "markdown",
   "id": "4836b595",
   "metadata": {},
   "source": [
    "Q: What is method overriding in OOP?   \n",
    "\n",
    "Ans: Method overriding occurs when a child class provides a specific implementation for a method that is already defined in its parent class. "
   ]
  },
  {
   "cell_type": "markdown",
   "id": "c89c0634",
   "metadata": {},
   "source": [
    "Q: What is a property decorator in Python?  \n",
    "\n",
    "Ans: The property decorator is a way to create managed attributes. It allows us to define a method for a class that can be accessed like an attribute. "
   ]
  },
  {
   "cell_type": "markdown",
   "id": "17dce2b2",
   "metadata": {},
   "source": [
    "Q:  Why is polymorphism important in OOP?  \n",
    "\n",
    "Ans: Polymorphism is important because it allows for flexibility and code reusability. It lets us write generic code that can work with objects of different classes, as long as they share a common interface."
   ]
  },
  {
   "cell_type": "markdown",
   "id": "e32ec95f",
   "metadata": {},
   "source": [
    "Q: What is an abstract class in Python?  \n",
    "\n",
    "Ans: An abstract class is a class that cannot be instantiated on its own but can be done so using a subclass. It contains abstract methods."
   ]
  },
  {
   "cell_type": "markdown",
   "id": "af1f6fcc",
   "metadata": {},
   "source": [
    "Q: What are the advantages of OOP?  \n",
    "\n",
    "Ans:  Advantages of OOP are Modularity, Reusability and Maintainability."
   ]
  },
  {
   "cell_type": "markdown",
   "id": "771901a2",
   "metadata": {},
   "source": [
    "Q: What is the difference between a class variable and an instance variable?   \n",
    "\n",
    "Ans: Class Variable: A variable that is shared by all instances (objects) of a class. It is defined inside the class but outside of any methods.   \n",
    "Instance Variable: A variable that is unique to each instance of a class. It is defined inside the constructor method."
   ]
  },
  {
   "cell_type": "markdown",
   "id": "9db5959b",
   "metadata": {},
   "source": [
    "Q: What is multiple inheritance in Python?  \n",
    "\n",
    "Ans:  Multiple inheritance is a feature where a class can inherit attributes and methods from more than one parent class."
   ]
  },
  {
   "cell_type": "markdown",
   "id": "e7a33c28",
   "metadata": {},
   "source": [
    "Q: Explain the purpose of __ str__ and __ repr__ methods in Python.  \n",
    "\n",
    "Ans: __ str__(): Is used to provide an informal string representation of an object.  \n",
    "__ repr__(): Is used to provide an official or unambiguous string representation of an object that is useful for developers and debugging. "
   ]
  },
  {
   "cell_type": "markdown",
   "id": "20b28a05",
   "metadata": {},
   "source": [
    "Q: What is the significance of the super() function in Python?   \n",
    "\n",
    "Ans: The super() function is used in a child class to call methods of its parent class."
   ]
  },
  {
   "cell_type": "markdown",
   "id": "c111e22c",
   "metadata": {},
   "source": [
    "Q:  What is the significance of the __ del__ method in Python?  \n",
    "\n",
    "Ans: The __ del__ method is known as a destructor. It is called when an object's reference count drops to zero, meaning it is about to be garbage collected."
   ]
  },
  {
   "cell_type": "markdown",
   "id": "db3b4a6a",
   "metadata": {},
   "source": [
    "Q: What is the difference between @staticmethod and @classmethod in Python?   \n",
    "\n",
    "Ans:  @classmethod: This decorator modifies a method so that it receives the class as its first argument, rather than the instance.  \n",
    "@staticmethod: This decorator modifies a method so that it receives neither the class nor the instance as its first argument."
   ]
  },
  {
   "cell_type": "markdown",
   "id": "057402a1",
   "metadata": {},
   "source": [
    "Q: How does polymorphism work in Python with inheritance?  \n",
    "\n",
    "Ans: Polymorphism works with inheritance through method overriding. When a child class inherits from a parent class, it can provide its own implementation of a method that is already defined in the parent. "
   ]
  },
  {
   "cell_type": "markdown",
   "id": "88e85b8a",
   "metadata": {},
   "source": [
    "Q: What is method chaining in Python OOP?  \n",
    "\n",
    "Ans: Method chaining is a programming pattern where multiple methods are called sequentially on the same object in a single statement. This is achieved by having each method in the chain return the instance itself (return self)."
   ]
  },
  {
   "cell_type": "markdown",
   "id": "c46dfbcc",
   "metadata": {},
   "source": [
    "Q: What is the purpose of the __ call__ method in Python?   \n",
    "\n",
    "Ans: The __ call__ method allows an instance of a class to be called as if it were a function."
   ]
  },
  {
   "cell_type": "markdown",
   "id": "3ac44833",
   "metadata": {},
   "source": [
    "Q: Create a parent class Animal with a method speak() that prints a generic message. Create a child class Dog that overrides the speak() method to print \"Bark!\". "
   ]
  },
  {
   "cell_type": "code",
   "execution_count": 1,
   "id": "873087b0",
   "metadata": {},
   "outputs": [
    {
     "name": "stdout",
     "output_type": "stream",
     "text": [
      "This is the speak method\n",
      "Bark\n"
     ]
    }
   ],
   "source": [
    "class Animal:\n",
    "    def __init__(self):\n",
    "        pass\n",
    "    def speak(self):\n",
    "        print(\"This is the speak method\")\n",
    "\n",
    "class Dog(Animal):\n",
    "    def speak(self):\n",
    "        print(\"Bark\")\n",
    "\n",
    "generic_animal = Animal()\n",
    "my_dog = Dog()\n",
    "\n",
    "generic_animal.speak()\n",
    "my_dog.speak()"
   ]
  },
  {
   "cell_type": "markdown",
   "id": "d0b40ae3",
   "metadata": {},
   "source": [
    "Q: Write a program to create an abstract class Shape with a method area(). Derive classes \n",
    "Circle and Rectangle from it and implement the area() method in both. "
   ]
  },
  {
   "cell_type": "code",
   "execution_count": 2,
   "id": "1b1a21a0",
   "metadata": {},
   "outputs": [
    {
     "name": "stdout",
     "output_type": "stream",
     "text": [
      "28.274333882308138\n",
      "10\n"
     ]
    }
   ],
   "source": [
    "import math\n",
    "\n",
    "class Shape:\n",
    "    def area(self):\n",
    "        pass\n",
    "class Circle(Shape):\n",
    "    def area(self,r):\n",
    "        return math.pi*(r**2)\n",
    "class Rectangle(Shape):\n",
    "    def area(self,l,b):\n",
    "        return l*b\n",
    "    \n",
    "circle= print(Circle().area(3))\n",
    "rect = print(Rectangle().area(2,5))"
   ]
  },
  {
   "cell_type": "markdown",
   "id": "c4433fac",
   "metadata": {},
   "source": [
    "Q: Implement a multi-level inheritance scenario where a class Vehicle has an attribute type. Derive a class Car and further derive a class ElectricCar that adds a battery attribute. "
   ]
  },
  {
   "cell_type": "code",
   "execution_count": 3,
   "id": "12b51c99",
   "metadata": {},
   "outputs": [
    {
     "name": "stdout",
     "output_type": "stream",
     "text": [
      "75\n",
      "Electric Car\n"
     ]
    }
   ],
   "source": [
    "class Vehicle:\n",
    "    def __init__(self,type):\n",
    "        self.type=type\n",
    "    def show_type(self):\n",
    "        print(self.type)\n",
    "class Car(Vehicle):\n",
    "    def __init__(self,type):\n",
    "        super().__init__(type)\n",
    "class ElectricCar(Car):\n",
    "    def __init__(self,battery):\n",
    "        super().__init__(\"Electric Car\")\n",
    "        self.battery=battery\n",
    "        print(self.battery)\n",
    "\n",
    "tesla=ElectricCar(75)\n",
    "tesla.show_type()"
   ]
  },
  {
   "cell_type": "markdown",
   "id": "162a7fc5",
   "metadata": {},
   "source": [
    "Q: Demonstrate polymorphism by creating a base class Bird with a method fly(). Create two derived classes Sparrow and Penguin that override the fly() method. "
   ]
  },
  {
   "cell_type": "code",
   "execution_count": 4,
   "id": "8bb3451d",
   "metadata": {},
   "outputs": [
    {
     "name": "stdout",
     "output_type": "stream",
     "text": [
      "Sparrow Flying\n",
      "Penguin not Flying\n"
     ]
    }
   ],
   "source": [
    "class Bird:\n",
    "    def fly(self):\n",
    "        print(\"Bird Flying\")\n",
    "class Sparrow(Bird):\n",
    "    def fly(self):\n",
    "        print(\"Sparrow Flying\")\n",
    "class Penguin(Bird):\n",
    "    def fly(self):\n",
    "        print(\"Penguin not Flying\")\n",
    "\n",
    "bird1=Sparrow().fly()\n",
    "bird2=Penguin().fly()"
   ]
  },
  {
   "cell_type": "markdown",
   "id": "e5952f87",
   "metadata": {},
   "source": [
    "Q: Write a program to demonstrate encapsulation by creating a class BankAccount with private attributes balance and methods to deposit, withdraw, and check balance."
   ]
  },
  {
   "cell_type": "code",
   "execution_count": 5,
   "id": "f5cf8fc3",
   "metadata": {},
   "outputs": [
    {
     "name": "stdout",
     "output_type": "stream",
     "text": [
      "0\n",
      "20\n"
     ]
    }
   ],
   "source": [
    "class BankAccount:\n",
    "    def __init__(self):\n",
    "        self.__bal=0\n",
    "    def deposit(self,amt):\n",
    "        if amt>0:\n",
    "            self.__bal+=amt\n",
    "    def withdraw(self,amt):\n",
    "        if amt>0 and amt<self.__bal:\n",
    "            self.__bal-=amt\n",
    "    def check_bal(self):\n",
    "        print(self.__bal)\n",
    "account = BankAccount()\n",
    "account.check_bal()\n",
    "account.deposit(50)\n",
    "account.withdraw(30)\n",
    "account.check_bal()"
   ]
  },
  {
   "cell_type": "markdown",
   "id": "44706b21",
   "metadata": {},
   "source": [
    "Q: Demonstrate runtime polymorphism using a method play() in a base class Instrument. Derive classes Guitar and Piano that implement their own version of play()."
   ]
  },
  {
   "cell_type": "code",
   "execution_count": 6,
   "id": "3cd3fb40",
   "metadata": {},
   "outputs": [
    {
     "name": "stdout",
     "output_type": "stream",
     "text": [
      "Guitar playing\n",
      "Piano playing\n"
     ]
    }
   ],
   "source": [
    "class Instrument:\n",
    "    def play(self):\n",
    "        print(\"Instrument playing\")\n",
    "class Guitar(Instrument):\n",
    "    def play(self):\n",
    "        print(\"Guitar playing\")\n",
    "class Piano(Instrument):\n",
    "    def play(self):\n",
    "        print(\"Piano playing\")\n",
    "\n",
    "guitar = Guitar().play()\n",
    "piano = Piano().play()"
   ]
  },
  {
   "cell_type": "markdown",
   "id": "313fb292",
   "metadata": {},
   "source": [
    "Q: Create a class MathOperations with a class method add_numbers() to add two numbers and a static method subtract_numbers() to subtract two numbers. "
   ]
  },
  {
   "cell_type": "code",
   "execution_count": 7,
   "id": "36e68a8f",
   "metadata": {},
   "outputs": [
    {
     "name": "stdout",
     "output_type": "stream",
     "text": [
      "5\n",
      "1\n"
     ]
    }
   ],
   "source": [
    "class MathOperations:\n",
    "    @classmethod\n",
    "    def add_numbers(cls,a,b):\n",
    "        return a+b\n",
    "    @staticmethod\n",
    "    def subtract_numbers(a,b):\n",
    "        return a-b\n",
    "    \n",
    "m=MathOperations()\n",
    "print(m.add_numbers(2,3))\n",
    "print(m.subtract_numbers(3,2))"
   ]
  },
  {
   "cell_type": "markdown",
   "id": "2635f8d3",
   "metadata": {},
   "source": [
    "Q: Implement a class Person with a class method to count the total number of persons created. "
   ]
  },
  {
   "cell_type": "code",
   "execution_count": 8,
   "id": "a3d1e4e3",
   "metadata": {},
   "outputs": [
    {
     "name": "stdout",
     "output_type": "stream",
     "text": [
      "3\n"
     ]
    }
   ],
   "source": [
    "class Person:\n",
    "    c=0\n",
    "    def __init__(self,name):\n",
    "        self.name=name\n",
    "        Person.c+=1\n",
    "    @classmethod\n",
    "    def count(cls):\n",
    "        return cls.c\n",
    "    \n",
    "p1=Person(\"Name1\")\n",
    "p2=Person(\"Name2\")\n",
    "p3=Person(\"Name3\")\n",
    "\n",
    "print(Person.c)\n"
   ]
  },
  {
   "cell_type": "markdown",
   "id": "792ea4b3",
   "metadata": {},
   "source": [
    "Q: Write a class Fraction with attributes numerator and denominator. Override the __ str__ method to display the fraction as \"numerator/denominator\". "
   ]
  },
  {
   "cell_type": "code",
   "execution_count": 9,
   "id": "87dad6e4",
   "metadata": {},
   "outputs": [
    {
     "name": "stdout",
     "output_type": "stream",
     "text": [
      "The fraction is: 3/4\n"
     ]
    }
   ],
   "source": [
    "class Fraction:\n",
    "    def __init__(self,num,den):\n",
    "        self.num = num\n",
    "        self.den = den\n",
    "    \n",
    "    def __str__(self):\n",
    "        return f\"{self.num}/{self.den}\"\n",
    "\n",
    "my_fraction = Fraction(3, 4)\n",
    "\n",
    "print(f\"The fraction is: {my_fraction}\")"
   ]
  },
  {
   "cell_type": "markdown",
   "id": "5c6e6930",
   "metadata": {},
   "source": [
    "Q: Demonstrate operator overloading by creating a class Vector and overriding the __add__ method to add two vectors. "
   ]
  },
  {
   "cell_type": "code",
   "execution_count": 10,
   "id": "49699afb",
   "metadata": {},
   "outputs": [
    {
     "name": "stdout",
     "output_type": "stream",
     "text": [
      "Vector(2, 4) + Vector(3, 5) = Vector(5, 9)\n"
     ]
    }
   ],
   "source": [
    "class Vector:\n",
    "    def __init__(self, x, y):\n",
    "        self.x = x\n",
    "        self.y = y\n",
    "    \n",
    "    def __add__(self, other):\n",
    "        return Vector(self.x + other.x, self.y + other.y)\n",
    "\n",
    "    def __str__(self):\n",
    "        return f\"Vector({self.x}, {self.y})\"\n",
    "    \n",
    "v1 = Vector(2, 4)\n",
    "v2 = Vector(3, 5)\n",
    "\n",
    "v3 = v1 + v2\n",
    "\n",
    "print(f\"{v1} + {v2} = {v3}\")"
   ]
  },
  {
   "cell_type": "markdown",
   "id": "d5c914c8",
   "metadata": {},
   "source": [
    "Q: Create a class Person with attributes name and age.\n",
    "Add a method greet() that prints \"Hello, my name is {name} and I am {age} years old.\" "
   ]
  },
  {
   "cell_type": "code",
   "execution_count": 11,
   "id": "ec47e08e",
   "metadata": {},
   "outputs": [
    {
     "name": "stdout",
     "output_type": "stream",
     "text": [
      "Hello, my name is John and I am 30 years old.\n"
     ]
    }
   ],
   "source": [
    "class Person:\n",
    "    def __init__(self, name, age):\n",
    "        self.name = name\n",
    "        self.age = age\n",
    "\n",
    "    def greet(self):\n",
    "        print(f\"Hello, my name is {self.name} and I am {self.age} years old.\")\n",
    "\n",
    "person1 = Person(\"John\", 30)\n",
    "person1.greet()"
   ]
  },
  {
   "cell_type": "markdown",
   "id": "b9a9f85c",
   "metadata": {},
   "source": [
    "Q:  Implement a class Student with attributes name and grades.\n",
    "Create a method average_grade() to compute the average of the grades. "
   ]
  },
  {
   "cell_type": "code",
   "execution_count": 12,
   "id": "247e250f",
   "metadata": {},
   "outputs": [
    {
     "name": "stdout",
     "output_type": "stream",
     "text": [
      "The average grade for Alice is 90.00\n"
     ]
    }
   ],
   "source": [
    "class Student:\n",
    "    def __init__(self, name, grades):\n",
    "        self.name = name\n",
    "        self.grades = grades\n",
    "\n",
    "    def average_grade(self):\n",
    "        return sum(self.grades) / len(self.grades)\n",
    "\n",
    "student1 = Student(\"Alice\", [88, 92, 95, 85])\n",
    "avg = student1.average_grade()\n",
    "print(f\"The average grade for {student1.name} is {avg:.2f}\")"
   ]
  },
  {
   "cell_type": "markdown",
   "id": "348c828a",
   "metadata": {},
   "source": [
    "Q: Create a class Rectangle with methods set_dimensions() to set the dimensions and area() to calculate the area."
   ]
  },
  {
   "cell_type": "code",
   "execution_count": 13,
   "id": "055867a3",
   "metadata": {},
   "outputs": [
    {
     "name": "stdout",
     "output_type": "stream",
     "text": [
      "The area of the rectangle is: 50\n"
     ]
    }
   ],
   "source": [
    "class Rectangle:\n",
    "    def set_dimensions(self, width, height):\n",
    "        self.width = width\n",
    "        self.height = height\n",
    "\n",
    "    def area(self):\n",
    "        return self.width * self.height\n",
    "\n",
    "rect = Rectangle()\n",
    "rect.set_dimensions(5, 10)\n",
    "print(f\"The area of the rectangle is: {rect.area()}\")"
   ]
  },
  {
   "cell_type": "markdown",
   "id": "a002cea8",
   "metadata": {},
   "source": [
    "Q: Create a class Employee with a method calculate_salary() that computes the salary based on hours worked and hourly rate. Create a derived class Manager that adds a bonus to the salary. "
   ]
  },
  {
   "cell_type": "code",
   "execution_count": 14,
   "id": "70ff6d84",
   "metadata": {},
   "outputs": [
    {
     "name": "stdout",
     "output_type": "stream",
     "text": [
      "John Doe's Salary: 3200\n",
      "Jane Smith's Salary: 8500\n"
     ]
    }
   ],
   "source": [
    "class Employee:\n",
    "    def __init__(self, name, hours_worked, hourly_rate):\n",
    "        self.name = name\n",
    "        self.hours_worked = hours_worked\n",
    "        self.hourly_rate = hourly_rate\n",
    "\n",
    "    def calculate_salary(self):\n",
    "        return self.hours_worked * self.hourly_rate\n",
    "\n",
    "class Manager(Employee):\n",
    "    def __init__(self, name, hours_worked, hourly_rate, bonus):\n",
    "        super().__init__(name, hours_worked, hourly_rate)\n",
    "        self.bonus = bonus\n",
    "\n",
    "    def calculate_salary(self):\n",
    "        base_salary = super().calculate_salary()\n",
    "        return base_salary + self.bonus\n",
    "\n",
    "emp = Employee(\"John Doe\", 160, 20)\n",
    "mgr = Manager(\"Jane Smith\", 160, 50, 500)\n",
    "\n",
    "print(f\"{emp.name}'s Salary: {emp.calculate_salary()}\")\n",
    "print(f\"{mgr.name}'s Salary: {mgr.calculate_salary()}\")"
   ]
  },
  {
   "cell_type": "markdown",
   "id": "d2a096b1",
   "metadata": {},
   "source": [
    "Q:  Create a class Product with attributes name, price, and quantity.\n",
    "Implement a method total_price() that calculates the total price of the product. "
   ]
  },
  {
   "cell_type": "code",
   "execution_count": 15,
   "id": "94414d8f",
   "metadata": {},
   "outputs": [
    {
     "name": "stdout",
     "output_type": "stream",
     "text": [
      "The total value of Laptops is 6000\n"
     ]
    }
   ],
   "source": [
    "class Product:\n",
    "    def __init__(self, name, price, quantity):\n",
    "        self.name = name\n",
    "        self.price = price\n",
    "        self.quantity = quantity\n",
    "\n",
    "    def total_price(self):\n",
    "        return self.price * self.quantity\n",
    "\n",
    "product1 = Product(\"Laptop\", 1200, 5)\n",
    "total = product1.total_price()\n",
    "print(f\"The total value of {product1.name}s is {total}\")"
   ]
  },
  {
   "cell_type": "markdown",
   "id": "c195e895",
   "metadata": {},
   "source": [
    "Q: Create a class Animal with an abstract method sound().\n",
    "Create two derived classes Cow and Sheep that implement the sound() method. "
   ]
  },
  {
   "cell_type": "code",
   "execution_count": 16,
   "id": "7180ac63",
   "metadata": {},
   "outputs": [
    {
     "name": "stdout",
     "output_type": "stream",
     "text": [
      "Moo\n",
      "Baa\n"
     ]
    }
   ],
   "source": [
    "from abc import ABC, abstractmethod\n",
    "\n",
    "class Animal(ABC):\n",
    "    @abstractmethod\n",
    "    def sound(self):\n",
    "        pass\n",
    "\n",
    "class Cow(Animal):\n",
    "    def sound(self):\n",
    "        print(\"Moo\")\n",
    "\n",
    "class Sheep(Animal):\n",
    "    def sound(self):\n",
    "        print(\"Baa\")\n",
    "\n",
    "cow = Cow().sound()\n",
    "sheep = Sheep().sound()"
   ]
  },
  {
   "cell_type": "markdown",
   "id": "2b850f77",
   "metadata": {},
   "source": [
    "Create a class Book with attributes title, author, and year_published.\n",
    "Add a method get_book_info() that returns a formatted string with the book's details. "
   ]
  },
  {
   "cell_type": "code",
   "execution_count": 17,
   "id": "d36ea712",
   "metadata": {},
   "outputs": [
    {
     "name": "stdout",
     "output_type": "stream",
     "text": [
      "Title: 1984, Author: George Orwell, Published: 1949\n"
     ]
    }
   ],
   "source": [
    "class Book:\n",
    "    def __init__(self, title, author, year_published):\n",
    "        self.title = title\n",
    "        self.author = author\n",
    "        self.year_published = year_published\n",
    "\n",
    "    def get_book_info(self):\n",
    "        return f\"Title: {self.title}, Author: {self.author}, Published: {self.year_published}\"\n",
    "\n",
    "\n",
    "book1 = Book(\"1984\", \"George Orwell\", 1949)\n",
    "print(book1.get_book_info())"
   ]
  },
  {
   "cell_type": "markdown",
   "id": "ad772da1",
   "metadata": {},
   "source": [
    "Q: Create a class House with attributes address and price.\n",
    "Create a derived class Mansion that adds an attribute number_of_rooms. "
   ]
  },
  {
   "cell_type": "code",
   "execution_count": 18,
   "id": "3db9377a",
   "metadata": {},
   "outputs": [
    {
     "name": "stdout",
     "output_type": "stream",
     "text": [
      "Address: 123 Luxury Ln, Beverly Hills, Price: 5,000,000.00, Number of Rooms: 15\n"
     ]
    }
   ],
   "source": [
    "class House:\n",
    "    def __init__(self, address, price):\n",
    "        self.address = address\n",
    "        self.price = price\n",
    "\n",
    "class Mansion(House):\n",
    "    def __init__(self, address, price, number_of_rooms):\n",
    "        super().__init__(address, price)\n",
    "        self.number_of_rooms = number_of_rooms\n",
    "\n",
    "    def display(self):\n",
    "        print(f\"Address: {self.address}, Price: {self.price:,.2f}, Number of Rooms: {self.number_of_rooms}\")\n",
    "\n",
    "# Create an instance and display its details\n",
    "my_mansion = Mansion(\"123 Luxury Ln, Beverly Hills\", 5000000, 15)\n",
    "my_mansion.display()"
   ]
  }
 ],
 "metadata": {
  "kernelspec": {
   "display_name": "aiml",
   "language": "python",
   "name": "python3"
  },
  "language_info": {
   "codemirror_mode": {
    "name": "ipython",
    "version": 3
   },
   "file_extension": ".py",
   "mimetype": "text/x-python",
   "name": "python",
   "nbconvert_exporter": "python",
   "pygments_lexer": "ipython3",
   "version": "3.13.7"
  }
 },
 "nbformat": 4,
 "nbformat_minor": 5
}
