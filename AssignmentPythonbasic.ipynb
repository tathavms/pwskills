{
 "cells": [
  {
   "cell_type": "markdown",
   "id": "8cedf02b",
   "metadata": {},
   "source": [
    "**Python Basics Questions**"
   ]
  },
  {
   "cell_type": "markdown",
   "id": "492fd9d3",
   "metadata": {},
   "source": [
    "Q: What is Python, and why is it popular   \n",
    "Ans: Python is a modern day computer Object oriented programming language used in several spheres starting from automation testing to Artificial Intelligence/Machine Learning. It is popular because it has a very readable syntax hence very easy to learn and use. Due to this easy adaptation criteria it is widely used and has an extensive support community. Also there are several existing python libraries which makes adapting it much easier and widespread."
   ]
  },
  {
   "cell_type": "markdown",
   "id": "4d7210de",
   "metadata": {},
   "source": [
    "Q: What is an interpreter in Python  \n",
    "Ans: An interpreter is a computer program that translates a high level code to machine code line by line. In case of python the interpreter first translates the code into bytecode and then the bytecode is translated to machine code."
   ]
  },
  {
   "cell_type": "markdown",
   "id": "60982beb",
   "metadata": {},
   "source": [
    "Q: What are pre-defined keywords in Python  \n",
    "Ans: Pre-defined keywords are reserved words in python with fixed meanings or actions. Those are the part of core python syntax. Example \"if,elif\""
   ]
  },
  {
   "cell_type": "markdown",
   "id": "c06b4265",
   "metadata": {},
   "source": [
    "Q: Can keywords be used as variable names  \n",
    "Ans: No keywords cannot be used a variable names"
   ]
  },
  {
   "cell_type": "markdown",
   "id": "b03ccd81",
   "metadata": {},
   "source": [
    "Q: What is mutability in Python  \n",
    "Ans: Mutability is the term that refers to whether an object can be changed or edited after it has been created or not. If the object is mutable then it can be modified in the same memory location. If it is immutable then in order to modify the object another new object needs to be created."
   ]
  },
  {
   "cell_type": "markdown",
   "id": "979d0d74",
   "metadata": {},
   "source": [
    "Q: Why are lists mutable, but tuples are immutable  \n",
    "Ans: Lists are mutable and tuples are immutable because they are data structures that have been created for specific purposes. List data structure has been designed to add, remove or modify elements after the list has already been created. When we modify a list, the interpreter simply updates these references without creating a completely new object.  \n",
    "Tuples data structure was designed to store fixed collection of objects in memory. When we modify a tuple an error is thrown. If we need an independent copy of the tuple then deepcopy keyword is used and a completely new tuple is created in memory."
   ]
  },
  {
   "cell_type": "markdown",
   "id": "7389fb8c",
   "metadata": {},
   "source": [
    "Q: What is the difference between “==” and “is” operators in Python  \n",
    "Ans: When we use \"==\", we are checking if the values of two objects/variables are equal. But \"is\" is used when we need to confirm that two variables reference the very same instance of an object."
   ]
  },
  {
   "cell_type": "markdown",
   "id": "525e3e8e",
   "metadata": {},
   "source": [
    "Q: What are logical operators in Python  \n",
    "Ans: The logical operators are the symbols that evaluate expressions to result in \"True\" or \"False\" response. Python has 3 logical operator and,or,not."
   ]
  },
  {
   "cell_type": "markdown",
   "id": "a0278222",
   "metadata": {},
   "source": [
    "Q: What is type casting in Python   \n",
    "Ans: Type casting in python is the process of converting a variable from one data type to another."
   ]
  },
  {
   "cell_type": "markdown",
   "id": "2bde7856",
   "metadata": {},
   "source": [
    "Q: What is the difference between implicit and explicit type casting   \n",
    "Ans: Implicit type casting, is the automatic conversion of variable type by the interpreter. Explicit type casting manual conversion of variable type done by the programmer using in built in functions like int(),float(),etc."
   ]
  },
  {
   "cell_type": "markdown",
   "id": "1fa218f6",
   "metadata": {},
   "source": [
    "Q: What is the purpose of conditional statements in Python  \n",
    "Ans: The conditional statements in python are to control the flow of the code. They are written in strategic positions inside the code to execute a part of it only in case a required condition is met. Else it takes another path of execution. If elif and else are the keywords."
   ]
  },
  {
   "cell_type": "markdown",
   "id": "7fcafe1d",
   "metadata": {},
   "source": [
    "Q: How does the elif statement work   \n",
    "Ans: The elif statement in python is used to check multiple conditions sequentially after an initial if statement fails.. It tests a new condition only if all the previous ones fail."
   ]
  },
  {
   "cell_type": "markdown",
   "id": "37b560f0",
   "metadata": {},
   "source": [
    "Q: What is the difference between for and while loops  \n",
    "Ans: For loop is used when the number of iterations are known along with the break condition. But a while loop is used when we do not kno the exact number of iterations and the loop exit depends on one particular criteria being met."
   ]
  },
  {
   "cell_type": "markdown",
   "id": "f901a33f",
   "metadata": {},
   "source": [
    "Q: Describe a scenario where a while loop is more suitable than a for loop.  \n",
    "Ans: While taking a user input in python code a while loop is more suitable as we do not know how many times the user can commit mistakes while entering the input. As we do not know the exact number of iterations in this case, hence while loop is more suitable."
   ]
  },
  {
   "cell_type": "markdown",
   "id": "6e574aa6",
   "metadata": {},
   "source": [
    "Q: Write a Python program to print \"Hello, World!\""
   ]
  },
  {
   "cell_type": "code",
   "execution_count": 1,
   "id": "1e1e2b6d",
   "metadata": {},
   "outputs": [
    {
     "name": "stdout",
     "output_type": "stream",
     "text": [
      "Hello, World!\n"
     ]
    }
   ],
   "source": [
    "print(\"Hello, World!\")"
   ]
  },
  {
   "cell_type": "markdown",
   "id": "bbfd0f28",
   "metadata": {},
   "source": [
    "Q: Write a Python program that displays your name and age.\n"
   ]
  },
  {
   "cell_type": "code",
   "execution_count": 2,
   "id": "1212939a",
   "metadata": {},
   "outputs": [
    {
     "name": "stdout",
     "output_type": "stream",
     "text": [
      "Name: Tathagata Banerjee\n",
      "Age: 31\n"
     ]
    }
   ],
   "source": [
    "print(\"Name: Tathagata Banerjee\")\n",
    "print(\"Age: 31\")"
   ]
  },
  {
   "cell_type": "markdown",
   "id": "c1aa6f2b",
   "metadata": {},
   "source": [
    "Q: Write code to print all the pre-defined keywords in Python using the keyword library."
   ]
  },
  {
   "cell_type": "code",
   "execution_count": 4,
   "id": "9b594706",
   "metadata": {},
   "outputs": [
    {
     "name": "stdout",
     "output_type": "stream",
     "text": [
      "False, None, True, and, as, assert, async, await, break, class, continue, def, del, elif, else, except, finally, for, from, global, if, import, in, is, lambda, nonlocal, not, or, pass, raise, return, try, while, with, yield, "
     ]
    }
   ],
   "source": [
    "import keyword\n",
    "\n",
    "for kw in keyword.kwlist:\n",
    "    print(kw, end=\", \")"
   ]
  },
  {
   "cell_type": "markdown",
   "id": "7ced5a08",
   "metadata": {},
   "source": [
    "Q: Write a program that checks if a given word is a Python keyword."
   ]
  },
  {
   "cell_type": "code",
   "execution_count": 5,
   "id": "64107702",
   "metadata": {},
   "outputs": [
    {
     "name": "stdout",
     "output_type": "stream",
     "text": [
      "This is a keyword\n"
     ]
    }
   ],
   "source": [
    "word=input(\"Enter a word to check\")\n",
    "if word in keyword.kwlist:\n",
    "    print(\"This is a keyword\")\n",
    "else:\n",
    "    print(\"It is NOT a keyword\")"
   ]
  },
  {
   "cell_type": "markdown",
   "id": "b765c9f4",
   "metadata": {},
   "source": [
    "Q: Create a list and tuple in Python, and demonstrate how attempting to change an element works differently for each."
   ]
  },
  {
   "cell_type": "code",
   "execution_count": 14,
   "id": "123c4724",
   "metadata": {},
   "outputs": [
    {
     "name": "stdout",
     "output_type": "stream",
     "text": [
      "[1, 10, 3, 4]\n",
      "Error is :: \n",
      " 'tuple' object does not support item assignment\n"
     ]
    }
   ],
   "source": [
    "l1=[1,2,3,4]\n",
    "t1=(1,3,5,7)\n",
    "l1[1]=10\n",
    "print(l1)\n",
    "\n",
    "try:\n",
    "    t1[1]=10\n",
    "except Exception as e:\n",
    "    print(f\"Error is :: \\n {e}\")"
   ]
  },
  {
   "cell_type": "markdown",
   "id": "b708365c",
   "metadata": {},
   "source": [
    "6. Write a function to demonstrate the behavior of mutable and immutable arguments."
   ]
  },
  {
   "cell_type": "code",
   "execution_count": 15,
   "id": "45a0c461",
   "metadata": {},
   "outputs": [
    {
     "name": "stdout",
     "output_type": "stream",
     "text": [
      "Original list Id== 1701283523456\n",
      "Modified list inside function== [1, 2, 3, 4, 100]\n",
      "Modified list Id== 1701283523456\n",
      "Original string Id== 1701283494640\n",
      "Modified string inside function== original string added string\n",
      "Modified string Id== 1701283583264\n"
     ]
    }
   ],
   "source": [
    "def mod_arg(l1,str1):\n",
    "    print(f\"Original list Id== {id(l1)}\")\n",
    "    l1.append(100)\n",
    "    print(f\"Modified list inside function== {l1}\")\n",
    "    print(f\"Modified list Id== {id(l1)}\")\n",
    "    print(f\"Original string Id== {id(str1)}\")\n",
    "    str1=str1+\" added string\"\n",
    "    print(f\"Modified string inside function== {str1}\")\n",
    "    print(f\"Modified string Id== {id(str1)}\")\n",
    "\n",
    "list1=[1,2,3,4]\n",
    "string1=\"original string\"\n",
    "\n",
    "mod_arg(list1,string1)"
   ]
  },
  {
   "cell_type": "markdown",
   "id": "e621a65b",
   "metadata": {},
   "source": [
    "7. Write a program that performs basic arithmetic operations on two user-input numbers."
   ]
  },
  {
   "cell_type": "code",
   "execution_count": 16,
   "id": "72de5bc1",
   "metadata": {},
   "outputs": [
    {
     "name": "stdout",
     "output_type": "stream",
     "text": [
      "Addition= 12\n",
      "Subtraction= 4\n",
      "Multiplication= 32\n",
      "Division= 2.0\n",
      "Modulus= 0\n"
     ]
    }
   ],
   "source": [
    "n1=int(input(\"enter a number\"))\n",
    "n2=int(input(\"enter 2nd number\"))\n",
    "print(f\"Addition= {n1+n2}\")\n",
    "print(f\"Subtraction= {n1-n2}\")\n",
    "print(f\"Multiplication= {n1*n2}\")\n",
    "print(f\"Division= {n1/n2}\")\n",
    "print(f\"Modulus= {n1%n2}\")"
   ]
  },
  {
   "cell_type": "markdown",
   "id": "c0cabe12",
   "metadata": {},
   "source": [
    "8. Write a program to demonstrate the use of logical operators."
   ]
  },
  {
   "cell_type": "code",
   "execution_count": 18,
   "id": "146df72e",
   "metadata": {},
   "outputs": [
    {
     "name": "stdout",
     "output_type": "stream",
     "text": [
      "12\n",
      "Logical AND demonstarted\n",
      "4\n",
      "Logical OR demonstarted\n",
      "False\n",
      "Logical NOT demonstarted\n"
     ]
    }
   ],
   "source": [
    "b=False\n",
    "if(n1<10 and n2>2):\n",
    "    print(n1+n2)\n",
    "    print(\"Logical AND demonstarted\")\n",
    "if(n1>10 or n2>2):\n",
    "    print(n1-n2)\n",
    "    print(\"Logical OR demonstarted\")\n",
    "if not b:\n",
    "    print(b)\n",
    "    print(\"Logical NOT demonstarted\")"
   ]
  },
  {
   "cell_type": "markdown",
   "id": "e472f394",
   "metadata": {},
   "source": [
    "9. Write a Python program to convert user input from string to integer, float, and boolean types."
   ]
  },
  {
   "cell_type": "code",
   "execution_count": 20,
   "id": "e12bc19d",
   "metadata": {},
   "outputs": [
    {
     "name": "stdout",
     "output_type": "stream",
     "text": [
      "Integer=4\n",
      "<class 'int'>\n",
      "Float=3.22\n",
      "<class 'float'>\n",
      "Boolean=True\n",
      "<class 'bool'>\n"
     ]
    }
   ],
   "source": [
    "input1=int(input(\"Enter an integer\"))\n",
    "print(f\"Integer={input1}\")\n",
    "print(type(input1))\n",
    "input1=float(input(\"Enter a decimal number\"))\n",
    "print(f\"Float={input1}\")\n",
    "print(type(input1))\n",
    "input1=bool(input(\"Enter True or False\"))\n",
    "print(f\"Boolean={input1}\")\n",
    "print(type(input1))"
   ]
  },
  {
   "cell_type": "markdown",
   "id": "c2252c59",
   "metadata": {},
   "source": [
    "10. Write code to demonstrate type casting with list elements."
   ]
  },
  {
   "cell_type": "code",
   "execution_count": 25,
   "id": "8f0cadab",
   "metadata": {},
   "outputs": [
    {
     "name": "stdout",
     "output_type": "stream",
     "text": [
      "<class 'str'>\n",
      "<class 'int'>\n"
     ]
    }
   ],
   "source": [
    "l1=[1,2,\"3\"]\n",
    "print(type(l1[2]))\n",
    "l1[2]=int(l1[2])\n",
    "print(type(l1[2]))"
   ]
  },
  {
   "cell_type": "markdown",
   "id": "16c17c95",
   "metadata": {},
   "source": [
    "11. Write a program that checks if a number is positive, negative, or zero."
   ]
  },
  {
   "cell_type": "code",
   "execution_count": 27,
   "id": "9b2da859",
   "metadata": {},
   "outputs": [
    {
     "name": "stdout",
     "output_type": "stream",
     "text": [
      "positive\n"
     ]
    }
   ],
   "source": [
    "num=float(input(\"Enter a number\"))\n",
    "if(num>0):\n",
    "    print(\"positive\")\n",
    "elif(num<0):\n",
    "    print(\"negative\")\n",
    "else:\n",
    "    print(\"zero\")"
   ]
  },
  {
   "cell_type": "markdown",
   "id": "146acabc",
   "metadata": {},
   "source": [
    "12. Write a for loop to print numbers from 1 to 10."
   ]
  },
  {
   "cell_type": "code",
   "execution_count": 28,
   "id": "9dfb59ab",
   "metadata": {},
   "outputs": [
    {
     "name": "stdout",
     "output_type": "stream",
     "text": [
      "1,2,3,4,5,6,7,8,9,10,"
     ]
    }
   ],
   "source": [
    "for i in range(1,11):\n",
    "    print(i, end=\",\")"
   ]
  },
  {
   "cell_type": "markdown",
   "id": "d23e74d0",
   "metadata": {},
   "source": [
    "13. Write a Python program to find the sum of all even numbers between 1 and 50."
   ]
  },
  {
   "cell_type": "code",
   "execution_count": 30,
   "id": "79101b37",
   "metadata": {},
   "outputs": [
    {
     "name": "stdout",
     "output_type": "stream",
     "text": [
      "650\n"
     ]
    }
   ],
   "source": [
    "s=0\n",
    "for i in range(2,51,2):\n",
    "    s+=i\n",
    "print(s)"
   ]
  },
  {
   "cell_type": "markdown",
   "id": "827bd432",
   "metadata": {},
   "source": [
    "14. Write a program to reverse a string using a while loop.\n"
   ]
  },
  {
   "cell_type": "code",
   "execution_count": 37,
   "id": "73cd1a94",
   "metadata": {},
   "outputs": [
    {
     "name": "stdout",
     "output_type": "stream",
     "text": [
      "renab ahtat"
     ]
    }
   ],
   "source": [
    "str1=input(\"Enter a string to reverse\")\n",
    "s=len(str1)-1\n",
    "while (s>=0):\n",
    "    print(str1[s], end=\"\")\n",
    "    s-=1"
   ]
  },
  {
   "cell_type": "markdown",
   "id": "10ac2c19",
   "metadata": {},
   "source": [
    "15. Write a Python program to calculate the factorial of a number provided by the user using a while loop."
   ]
  },
  {
   "cell_type": "code",
   "execution_count": null,
   "id": "675be580",
   "metadata": {},
   "outputs": [
    {
     "name": "stdout",
     "output_type": "stream",
     "text": [
      "factoria= 24\n"
     ]
    }
   ],
   "source": [
    "num=int(input(\"Enter an integer to calculate factorial\"))\n",
    "i,f=1,1\n",
    "while(i<=num):\n",
    "    f= i*f\n",
    "    i+=1\n",
    "print(f\"factorial= {f}\")"
   ]
  }
 ],
 "metadata": {
  "kernelspec": {
   "display_name": "pwskills",
   "language": "python",
   "name": "python3"
  },
  "language_info": {
   "codemirror_mode": {
    "name": "ipython",
    "version": 3
   },
   "file_extension": ".py",
   "mimetype": "text/x-python",
   "name": "python",
   "nbconvert_exporter": "python",
   "pygments_lexer": "ipython3",
   "version": "3.12.9"
  }
 },
 "nbformat": 4,
 "nbformat_minor": 5
}
