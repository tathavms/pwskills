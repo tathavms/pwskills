{
 "cells": [
  {
   "cell_type": "markdown",
   "id": "674210cb",
   "metadata": {},
   "source": [
    "Q: What are data structures, and why are they important?  \n",
    "Ans: Data structures are methods of organising and manipulating the data that helps to access or update the data easily with lesser complexity. They make handling and updating different types of data error-free."
   ]
  },
  {
   "cell_type": "markdown",
   "id": "2fc976c1",
   "metadata": {},
   "source": [
    "Q: Explain the difference between mutable and immutable data types with examples.  \n",
    "Ans: Mutable data types are the ones where the part of the data in the same variable and memory location can be changed (eg: List). But in an immutable datatype the data cannot be changed in the same location in the memory. Essentially a new changed data is generated and a new variable or the same variable reference can be cahnged and pointed to the new data in the memory. The old data stays intact (eg: String)."
   ]
  },
  {
   "cell_type": "markdown",
   "id": "695a4dd5",
   "metadata": {},
   "source": [
    "Q: What are the main differences between lists and tuples in Python?  \n",
    "Ans: \n",
    "| Lists | Tuples |\n",
    "|---|---|\n",
    "| ARe mutable | Are immutable |  \n",
    "| Declared with [] | Declared with () |  \n",
    "| More flexible but slower | Genrally faster data structure |  \n",
    "| Suitable for dynamic data | Suitable for fixed data |  "
   ]
  },
  {
   "cell_type": "markdown",
   "id": "b294214c",
   "metadata": {},
   "source": [
    "Q: Describe how dictionaries store data?  \n",
    "Ans: Dictionaries store data as a key value pair. Each key has a corresponding value assigned to it. Keys should be unique. Internlly dictionaries are stored as Hash tables. \n",
    "Eg: my_dictionary={\"name\": \"Tathagata\",\"city\": \"Bangalore\"}"
   ]
  },
  {
   "cell_type": "markdown",
   "id": "ed4d80da",
   "metadata": {},
   "source": [
    "Q: Why might you use a set instead of a list in Python?  \n",
    "Ans: If I need a data structure that does not store duplicates, then I will be using set instead of list."
   ]
  },
  {
   "cell_type": "markdown",
   "id": "4ac42d79",
   "metadata": {},
   "source": [
    "Q: What is a string in Python, and how is it different from a list?  \n",
    "Ans: String is a set of characters stored together in python. It is an immutable data type and can store only one type of data that represents text. But, list is dynamic and mutable data type. It can store multiple types of data together including strings and lists."
   ]
  },
  {
   "cell_type": "markdown",
   "id": "c7cf5f75",
   "metadata": {},
   "source": [
    "Q: How do tuples ensure data integrity in Python?  \n",
    "Ans: Tuples are immutable data structures that mean once the data is created it cannot be changed in the same tuple. This makes the data robust and keeps the integrity."
   ]
  },
  {
   "cell_type": "markdown",
   "id": "da4b40ba",
   "metadata": {},
   "source": [
    "Q: What is a hash table, and how does it relate to dictionaries in Python?  \n",
    "Ans: A hsh table is a dat structure that stores data by effectively mapping the key to values. This is where dictionary is of a similar structure of key:value pair. That is why it is stored as a hashmap. The hash function converts the key into an index in an array which in turn points to the location where the vlue is stored."
   ]
  },
  {
   "cell_type": "markdown",
   "id": "c2801a7e",
   "metadata": {},
   "source": [
    "Q: Can lists contain different data types in Python?  \n",
    "Ans: Yes"
   ]
  },
  {
   "cell_type": "markdown",
   "id": "533d56cd",
   "metadata": {},
   "source": [
    "Q: Explain why strings are immutable in Python  \n",
    "Ans: Strings are immutable in python because it helps with memory efficiency, like if multiple variables are assigned the same string then instead of having the same string multiple times in the memory all the variables can refer to the single location of the string effectively saving space. Also, it is thread safe, multiple thread runs cannot update the string concurrently in turn reducing bugs."
   ]
  },
  {
   "cell_type": "markdown",
   "id": "2ea1bf80",
   "metadata": {},
   "source": [
    "Q: What advantages do dictionaries offer over lists for certain tasks?  \n",
    "Ans: Dictionaries have faster lookups than lists and manages unstructured data better by using key-value pairs. So it has better and faster data retrieval for non-sequential data."
   ]
  },
  {
   "cell_type": "markdown",
   "id": "11c31776",
   "metadata": {},
   "source": [
    "Q: Describe a scenario where using a tuple would be preferable over a list?  \n",
    "Ans: A data which has to stay unchanged throught the program`s execution should be stored in a tuple rather than a list."
   ]
  },
  {
   "cell_type": "markdown",
   "id": "dd9668c7",
   "metadata": {},
   "source": [
    "Q:  How do sets handle duplicate values in Python?  \n",
    "Ans: Sets store only unique elements hence on adding already existing elements it just ignores them."
   ]
  },
  {
   "cell_type": "markdown",
   "id": "4acb99e4",
   "metadata": {},
   "source": [
    "Q: How does the “in” keyword work differently for lists and dictionaries?  \n",
    "Ans: The in keyword searches for a specific element in the entire list, but in case of a dictionary in only searches the element in the keys."
   ]
  },
  {
   "cell_type": "markdown",
   "id": "0439c121",
   "metadata": {},
   "source": [
    "Q: Can you modify the elements of a tuple? Explain why or why not?  \n",
    "Ans: No, because it is an immutable data structure."
   ]
  },
  {
   "cell_type": "markdown",
   "id": "a3f55672",
   "metadata": {},
   "source": [
    "Q:  What is a nested dictionary, and give an example of its use case?  \n",
    "Ans: Nested dictionary means another dictionary inside a dictionary, which is residing in the value of any of the keys. The used case would be storage of student data, like the parent list contains keys like student1, student2,....and inthe values of each of these students will be anothe dictionary like name,age,...."
   ]
  },
  {
   "cell_type": "markdown",
   "id": "fb0d32c5",
   "metadata": {},
   "source": [
    "Q: Describe the time complexity of accessing elements in a dictionary?  \n",
    "Ans: The time complexity is O(1) that is constant time."
   ]
  },
  {
   "cell_type": "markdown",
   "id": "58e4e12b",
   "metadata": {},
   "source": [
    "Q:  In what situations are lists preferred over dictionaries?  \n",
    "Ans: Lists are preferred over dictionaries when we need a sequential and ordered collection of data on which we will be performing some operation for all the elements in sequence."
   ]
  },
  {
   "cell_type": "markdown",
   "id": "33c03c13",
   "metadata": {},
   "source": [
    "Q: Why are dictionaries considered unordered, and how does that affect data retrieval?  \n",
    "Ans: Ditionaries are considered unordered because their purpose is for key based retrieval of data and not retrieve on the basis of the location value of the data. It makes the retrieval faster when the data is in no particular order. Makes the retrieval consistent of the order Q(1)."
   ]
  },
  {
   "cell_type": "markdown",
   "id": "74d158e5",
   "metadata": {},
   "source": [
    "Q: Explain the difference between a list and a dictionary in terms of data retrieval.  \n",
    "Ans: In a list the data is retrived using position value but in dictionary its is retrieved using the keys."
   ]
  },
  {
   "cell_type": "markdown",
   "id": "55673306",
   "metadata": {},
   "source": [
    "Q: Write a code to create a string with your name and print it"
   ]
  },
  {
   "cell_type": "code",
   "execution_count": 2,
   "id": "b5f6a188",
   "metadata": {},
   "outputs": [
    {
     "name": "stdout",
     "output_type": "stream",
     "text": [
      "Tathagata Banerjee\n"
     ]
    }
   ],
   "source": [
    "name=\"Tathagata Banerjee\"\n",
    "print(name)"
   ]
  },
  {
   "cell_type": "markdown",
   "id": "185f937d",
   "metadata": {},
   "source": [
    "Q: Write a code to find the length of the string \"Hello World\""
   ]
  },
  {
   "cell_type": "code",
   "execution_count": 3,
   "id": "47944b89",
   "metadata": {},
   "outputs": [
    {
     "name": "stdout",
     "output_type": "stream",
     "text": [
      "Length: 11\n"
     ]
    }
   ],
   "source": [
    "print(f\"Length: {len(\"Hello World\")}\")"
   ]
  },
  {
   "cell_type": "markdown",
   "id": "f837c03e",
   "metadata": {},
   "source": [
    "Q: Write a code to slice the first 3 characters from the string \"Python Programming\""
   ]
  },
  {
   "cell_type": "code",
   "execution_count": 4,
   "id": "0bcf7d34",
   "metadata": {},
   "outputs": [
    {
     "name": "stdout",
     "output_type": "stream",
     "text": [
      "1st 3 characters: Pyt\n"
     ]
    }
   ],
   "source": [
    "print(f\"1st 3 characters: {\"Python Programming\"[0:3]}\")"
   ]
  },
  {
   "cell_type": "markdown",
   "id": "75a654b5",
   "metadata": {},
   "source": [
    "Q: Write a code to convert the string \"hello\" to uppercase"
   ]
  },
  {
   "cell_type": "code",
   "execution_count": 5,
   "id": "28a496b3",
   "metadata": {},
   "outputs": [
    {
     "name": "stdout",
     "output_type": "stream",
     "text": [
      "HELLO\n"
     ]
    }
   ],
   "source": [
    "print(\"hello\".upper())"
   ]
  },
  {
   "cell_type": "markdown",
   "id": "59568266",
   "metadata": {},
   "source": [
    "Q: Write a code to replace the word \"apple\" with \"orange\" in the string \"I like apple\""
   ]
  },
  {
   "cell_type": "code",
   "execution_count": 6,
   "id": "f9977998",
   "metadata": {},
   "outputs": [
    {
     "name": "stdout",
     "output_type": "stream",
     "text": [
      "I like orange\n"
     ]
    }
   ],
   "source": [
    "print(\"I like apple\".replace(\"apple\",\"orange\"))"
   ]
  },
  {
   "cell_type": "markdown",
   "id": "f9cc2361",
   "metadata": {},
   "source": [
    "Q: Write a code to create a list with numbers 1 to 5 and print it"
   ]
  },
  {
   "cell_type": "code",
   "execution_count": 7,
   "id": "0ae793ad",
   "metadata": {},
   "outputs": [
    {
     "name": "stdout",
     "output_type": "stream",
     "text": [
      "[1, 2, 3, 4, 5]\n"
     ]
    }
   ],
   "source": [
    "my_list=[1,2,3,4,5]\n",
    "print(my_list)"
   ]
  },
  {
   "cell_type": "markdown",
   "id": "9f039899",
   "metadata": {},
   "source": [
    "Q: Write a code to append the number 10 to the list [1, 2, 3, 4]"
   ]
  },
  {
   "cell_type": "code",
   "execution_count": 12,
   "id": "da3169bf",
   "metadata": {},
   "outputs": [
    {
     "name": "stdout",
     "output_type": "stream",
     "text": [
      "[1, 2, 3, 4, 10]\n"
     ]
    }
   ],
   "source": [
    "mylist=[1,2,3,4]\n",
    "mylist.append(10)\n",
    "print(mylist)"
   ]
  },
  {
   "cell_type": "markdown",
   "id": "a1550b2e",
   "metadata": {},
   "source": [
    "Q: Write a code to remove the number 3 from the list [1, 2, 3, 4, 5]"
   ]
  },
  {
   "cell_type": "code",
   "execution_count": 19,
   "id": "acdee6bc",
   "metadata": {},
   "outputs": [
    {
     "name": "stdout",
     "output_type": "stream",
     "text": [
      "[1, 2, 4, 5]\n"
     ]
    }
   ],
   "source": [
    "mylist=[1,2,3,4,5]\n",
    "mylist.remove(3)\n",
    "print(mylist)"
   ]
  },
  {
   "cell_type": "markdown",
   "id": "3734c65d",
   "metadata": {},
   "source": [
    "Q: Write a code to access the second element in the list ['a', 'b', 'c', 'd']"
   ]
  },
  {
   "cell_type": "code",
   "execution_count": 21,
   "id": "bb7c9bcf",
   "metadata": {},
   "outputs": [
    {
     "name": "stdout",
     "output_type": "stream",
     "text": [
      "b\n"
     ]
    }
   ],
   "source": [
    "print(['a', 'b', 'c', 'd'][1])"
   ]
  },
  {
   "cell_type": "markdown",
   "id": "4c98e029",
   "metadata": {},
   "source": [
    "Q: Write a code to reverse the list [10, 20, 30, 40, 50]"
   ]
  },
  {
   "cell_type": "code",
   "execution_count": 22,
   "id": "361d14ff",
   "metadata": {},
   "outputs": [
    {
     "name": "stdout",
     "output_type": "stream",
     "text": [
      "[50, 40, 30, 20, 10]\n"
     ]
    }
   ],
   "source": [
    "print([10, 20, 30, 40, 50][::-1])"
   ]
  },
  {
   "cell_type": "markdown",
   "id": "8a4d81aa",
   "metadata": {},
   "source": [
    "Q: Write a code to create a tuple with the elements 100, 200, 300 and print it"
   ]
  },
  {
   "cell_type": "code",
   "execution_count": 27,
   "id": "9d126e6d",
   "metadata": {},
   "outputs": [
    {
     "name": "stdout",
     "output_type": "stream",
     "text": [
      "(100, 200, 300)\n"
     ]
    }
   ],
   "source": [
    "x=(100, 200, 300)\n",
    "print(x)"
   ]
  },
  {
   "cell_type": "markdown",
   "id": "324744db",
   "metadata": {},
   "source": [
    "Q: Write a code to access the second-to-last element of the tuple ('red', 'green', 'blue', 'yellow')"
   ]
  },
  {
   "cell_type": "code",
   "execution_count": 32,
   "id": "b7a5e06c",
   "metadata": {},
   "outputs": [
    {
     "name": "stdout",
     "output_type": "stream",
     "text": [
      "blue\n"
     ]
    }
   ],
   "source": [
    "print(('red', 'green', 'blue', 'yellow')[-2])"
   ]
  },
  {
   "cell_type": "markdown",
   "id": "010158fd",
   "metadata": {},
   "source": [
    "Q: Write a code to find the minimum number in the tuple (10, 20, 5, 15)"
   ]
  },
  {
   "cell_type": "code",
   "execution_count": 34,
   "id": "055e44f0",
   "metadata": {},
   "outputs": [
    {
     "name": "stdout",
     "output_type": "stream",
     "text": [
      "5\n"
     ]
    }
   ],
   "source": [
    "print(min((10, 20, 5, 15)))"
   ]
  },
  {
   "cell_type": "markdown",
   "id": "92b778ee",
   "metadata": {},
   "source": [
    "Q: Write a code to find the index of the element \"cat\" in the tuple ('dog', 'cat', 'rabbit')"
   ]
  },
  {
   "cell_type": "code",
   "execution_count": 35,
   "id": "861a86e4",
   "metadata": {},
   "outputs": [
    {
     "name": "stdout",
     "output_type": "stream",
     "text": [
      "1\n"
     ]
    }
   ],
   "source": [
    "print(('dog', 'cat', 'rabbit').index(\"cat\"))"
   ]
  },
  {
   "cell_type": "markdown",
   "id": "431e4c7d",
   "metadata": {},
   "source": [
    "Q: Write a code to create a tuple containing three different fruits and check if \"kiwi\" is in it."
   ]
  },
  {
   "cell_type": "code",
   "execution_count": 49,
   "id": "1ac07871",
   "metadata": {},
   "outputs": [
    {
     "name": "stdout",
     "output_type": "stream",
     "text": [
      "True\n"
     ]
    }
   ],
   "source": [
    "f=(\"apple\",\"banana\",\"kiwi\")\n",
    "print(\"kiwi\" in f)"
   ]
  },
  {
   "cell_type": "markdown",
   "id": "be97ad66",
   "metadata": {},
   "source": [
    "Q:  Write a code to create a set with the elements 'a', 'b', 'c' and print it."
   ]
  },
  {
   "cell_type": "code",
   "execution_count": 50,
   "id": "0948aa27",
   "metadata": {},
   "outputs": [
    {
     "name": "stdout",
     "output_type": "stream",
     "text": [
      "{'c', 'a', 'b'}\n"
     ]
    }
   ],
   "source": [
    "x={'a', 'b', 'c'}\n",
    "print(x)"
   ]
  },
  {
   "cell_type": "markdown",
   "id": "c40e5f65",
   "metadata": {},
   "source": [
    "Q: Write a code to clear all elements from the set {1, 2, 3, 4, 5}"
   ]
  },
  {
   "cell_type": "code",
   "execution_count": 54,
   "id": "71ffa227",
   "metadata": {},
   "outputs": [
    {
     "name": "stdout",
     "output_type": "stream",
     "text": [
      "set()\n"
     ]
    }
   ],
   "source": [
    "x={1, 2, 3, 4, 5}\n",
    "x.clear()\n",
    "print(x)"
   ]
  },
  {
   "cell_type": "markdown",
   "id": "54ef6cf5",
   "metadata": {},
   "source": [
    "Q: Write a code to remove the element 4 from the set {1, 2, 3, 4}"
   ]
  },
  {
   "cell_type": "code",
   "execution_count": 57,
   "id": "e7502cdc",
   "metadata": {},
   "outputs": [
    {
     "name": "stdout",
     "output_type": "stream",
     "text": [
      "{1, 2, 3}\n"
     ]
    }
   ],
   "source": [
    "x={1, 2, 3, 4}\n",
    "x.remove(4)\n",
    "print(x)"
   ]
  },
  {
   "cell_type": "markdown",
   "id": "041a7faa",
   "metadata": {},
   "source": [
    "Q: Write a code to find the union of two sets {1, 2, 3} and {3, 4, 5}"
   ]
  },
  {
   "cell_type": "code",
   "execution_count": 62,
   "id": "91bd0e3d",
   "metadata": {},
   "outputs": [
    {
     "name": "stdout",
     "output_type": "stream",
     "text": [
      "{1, 2, 3, 4, 5}\n"
     ]
    }
   ],
   "source": [
    "print({1, 2, 3}.union({3, 4, 5}))"
   ]
  },
  {
   "cell_type": "code",
   "execution_count": 83,
   "id": "cfc73783",
   "metadata": {},
   "outputs": [
    {
     "name": "stdout",
     "output_type": "stream",
     "text": [
      "{1, 2, 3, 4, 5}\n"
     ]
    }
   ],
   "source": [
    "print({1, 2, 3}|({3, 4, 5}))"
   ]
  },
  {
   "cell_type": "markdown",
   "id": "84806628",
   "metadata": {},
   "source": [
    "Q: Write a code to find the intersection of two sets {1, 2, 3} and {2, 3, 4}"
   ]
  },
  {
   "cell_type": "code",
   "execution_count": 64,
   "id": "9e36989f",
   "metadata": {},
   "outputs": [
    {
     "name": "stdout",
     "output_type": "stream",
     "text": [
      "{2, 3}\n"
     ]
    }
   ],
   "source": [
    "print({1, 2, 3}.intersection({2, 3, 4}))"
   ]
  },
  {
   "cell_type": "code",
   "execution_count": 84,
   "id": "953e008b",
   "metadata": {},
   "outputs": [
    {
     "name": "stdout",
     "output_type": "stream",
     "text": [
      "{2, 3}\n"
     ]
    }
   ],
   "source": [
    "print({1, 2, 3}&({2, 3, 4}))"
   ]
  },
  {
   "cell_type": "markdown",
   "id": "b1547967",
   "metadata": {},
   "source": [
    "Q: Write a code to create a dictionary with the keys \"name\", \"age\", and \"city\", and print it"
   ]
  },
  {
   "cell_type": "code",
   "execution_count": 65,
   "id": "7573a02e",
   "metadata": {},
   "outputs": [
    {
     "name": "stdout",
     "output_type": "stream",
     "text": [
      "{'name': 'SampleName', 'age': 30, 'city': 'SampleCity'}\n"
     ]
    }
   ],
   "source": [
    "my_dict={\"name\":\"SampleName\", \"age\":30, \"city\":\"SampleCity\"}\n",
    "print(my_dict)"
   ]
  },
  {
   "cell_type": "markdown",
   "id": "5ec14d38",
   "metadata": {},
   "source": [
    "Q: Write a code to add a new key-value pair \"country\": \"USA\" to the dictionary {'name': 'John', 'age': 25}"
   ]
  },
  {
   "cell_type": "code",
   "execution_count": 73,
   "id": "284d3223",
   "metadata": {},
   "outputs": [
    {
     "name": "stdout",
     "output_type": "stream",
     "text": [
      "{'name': 'John', 'age': 25, 'country': 'USA'}\n"
     ]
    }
   ],
   "source": [
    "#for python 3.5+\n",
    "print({**{'name': 'John', 'age': 25},**{\"country\":\"USA\"}})"
   ]
  },
  {
   "cell_type": "code",
   "execution_count": 72,
   "id": "f08044e6",
   "metadata": {},
   "outputs": [
    {
     "name": "stdout",
     "output_type": "stream",
     "text": [
      "{'name': 'John', 'age': 25, 'country': 'USA'}\n"
     ]
    }
   ],
   "source": [
    "my_dict={'name': 'John', 'age': 25}\n",
    "my_dict[\"country\"]=\"USA\"\n",
    "print(my_dict)"
   ]
  },
  {
   "cell_type": "markdown",
   "id": "a6b905bd",
   "metadata": {},
   "source": [
    "Q: Write a code to access the value associated with the key \"name\" in the dictionary {'name': 'Alice', 'age': 30}"
   ]
  },
  {
   "cell_type": "code",
   "execution_count": 74,
   "id": "130f7d64",
   "metadata": {},
   "outputs": [
    {
     "name": "stdout",
     "output_type": "stream",
     "text": [
      "Alice\n"
     ]
    }
   ],
   "source": [
    "print({'name': 'Alice', 'age': 30}[\"name\"])"
   ]
  },
  {
   "cell_type": "markdown",
   "id": "ae9592ec",
   "metadata": {},
   "source": [
    "Q: Write a code to remove the key \"age\" from the dictionary {'name': 'Bob', 'age': 22, 'city': 'New York'}"
   ]
  },
  {
   "cell_type": "code",
   "execution_count": 77,
   "id": "a7156be3",
   "metadata": {},
   "outputs": [
    {
     "name": "stdout",
     "output_type": "stream",
     "text": [
      "{'name': 'Bob', 'city': 'New York'}\n"
     ]
    }
   ],
   "source": [
    "my_dict={'name': 'Bob', 'age': 22, 'city': 'New York'}\n",
    "my_dict.pop(\"age\")\n",
    "print(my_dict)"
   ]
  },
  {
   "cell_type": "markdown",
   "id": "9bbcf240",
   "metadata": {},
   "source": [
    "Q: Write a code to check if the key \"city\" exists in the dictionary {'name': 'Alice', 'city': 'Paris'}"
   ]
  },
  {
   "cell_type": "code",
   "execution_count": 78,
   "id": "4826d65d",
   "metadata": {},
   "outputs": [
    {
     "name": "stdout",
     "output_type": "stream",
     "text": [
      "True\n"
     ]
    }
   ],
   "source": [
    "print(\"city\" in {'name': 'Alice', 'city': 'Paris'})"
   ]
  },
  {
   "cell_type": "markdown",
   "id": "b04f9d39",
   "metadata": {},
   "source": [
    "Q:  Write a code to create a list, a tuple, and a dictionary, and print them all."
   ]
  },
  {
   "cell_type": "code",
   "execution_count": 79,
   "id": "e803602c",
   "metadata": {},
   "outputs": [
    {
     "name": "stdout",
     "output_type": "stream",
     "text": [
      "list: [1, 2, 3, 4]\n",
      "tuple: (5, 6, 7, 8)\n",
      "dictionary: {'name': 'Alice', 'city': 'Paris'}\n"
     ]
    }
   ],
   "source": [
    "my_list=[1,2,3,4]\n",
    "my_tuple=(5,6,7,8)\n",
    "my_dict={'name': 'Alice', 'city': 'Paris'}\n",
    "print(\"list:\",my_list)\n",
    "print(\"tuple:\",my_tuple)\n",
    "print(\"dictionary:\",my_dict)"
   ]
  },
  {
   "cell_type": "markdown",
   "id": "7db95b5a",
   "metadata": {},
   "source": [
    "Q: Write a code to create a list of 5 random numbers between 1 and 100, sort it in ascending order, and print the result."
   ]
  },
  {
   "cell_type": "code",
   "execution_count": 81,
   "id": "29584a67",
   "metadata": {},
   "outputs": [
    {
     "name": "stdout",
     "output_type": "stream",
     "text": [
      "[3, 12, 24, 45, 55]\n"
     ]
    }
   ],
   "source": [
    "my_list=[24,55,12,3,45]\n",
    "my_list.sort()\n",
    "print(my_list)"
   ]
  },
  {
   "cell_type": "markdown",
   "id": "a3fd7566",
   "metadata": {},
   "source": [
    "Q: Write a code to create a list with strings and print the element at the third index"
   ]
  },
  {
   "cell_type": "code",
   "execution_count": 82,
   "id": "f803719a",
   "metadata": {},
   "outputs": [
    {
     "name": "stdout",
     "output_type": "stream",
     "text": [
      "string3\n"
     ]
    }
   ],
   "source": [
    "my_list=[\"string1\",\"string2\",\"string3\",\"string4\"]\n",
    "print(my_list[2])"
   ]
  },
  {
   "cell_type": "markdown",
   "id": "00f1c8b7",
   "metadata": {},
   "source": [
    "Q: Write a code to combine two dictionaries into one and print the result."
   ]
  },
  {
   "cell_type": "code",
   "execution_count": 85,
   "id": "da77db6a",
   "metadata": {},
   "outputs": [
    {
     "name": "stdout",
     "output_type": "stream",
     "text": [
      "{'name': 'John', 'age': 25, 'country': 'USA', 'citizen': True}\n"
     ]
    }
   ],
   "source": [
    "print({'name': 'John', 'age': 25}|{\"country\":\"USA\",\"citizen\":True})"
   ]
  },
  {
   "cell_type": "code",
   "execution_count": 88,
   "id": "9fd83214",
   "metadata": {},
   "outputs": [
    {
     "name": "stdout",
     "output_type": "stream",
     "text": [
      "{'name': 'John', 'age': 25, 'country': 'USA', 'citizen': True}\n"
     ]
    }
   ],
   "source": [
    "merged_dict={'name': 'John', 'age': 25}\n",
    "merged_dict.update({\"country\":\"USA\",\"citizen\":True})\n",
    "print(merged_dict)"
   ]
  },
  {
   "cell_type": "markdown",
   "id": "af7af146",
   "metadata": {},
   "source": [
    "Q: Write a code to convert a list of strings into a set"
   ]
  },
  {
   "cell_type": "code",
   "execution_count": 89,
   "id": "edd9b293",
   "metadata": {},
   "outputs": [
    {
     "name": "stdout",
     "output_type": "stream",
     "text": [
      "{2, 3, 4, 5, 6}\n"
     ]
    }
   ],
   "source": [
    "my_list=[2,2,3,4,3,5,6,4,5]\n",
    "print(set(my_list))"
   ]
  }
 ],
 "metadata": {
  "kernelspec": {
   "display_name": "pwskills",
   "language": "python",
   "name": "python3"
  },
  "language_info": {
   "codemirror_mode": {
    "name": "ipython",
    "version": 3
   },
   "file_extension": ".py",
   "mimetype": "text/x-python",
   "name": "python",
   "nbconvert_exporter": "python",
   "pygments_lexer": "ipython3",
   "version": "3.12.11"
  }
 },
 "nbformat": 4,
 "nbformat_minor": 5
}
